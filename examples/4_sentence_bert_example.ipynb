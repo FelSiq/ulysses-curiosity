{
 "cells": [
  {
   "cell_type": "code",
   "execution_count": 1,
   "id": "5a1a0827",
   "metadata": {
    "ExecuteTime": {
     "end_time": "2022-04-23T02:53:00.815997Z",
     "start_time": "2022-04-23T02:52:58.875006Z"
    }
   },
   "outputs": [
    {
     "name": "stderr",
     "output_type": "stream",
     "text": [
      "/media/nvme/prober/venvs/py3.9.10/lib/python3.9/site-packages/tqdm/auto.py:22: TqdmWarning: IProgress not found. Please update jupyter and ipywidgets. See https://ipywidgets.readthedocs.io/en/stable/user_install.html\n",
      "  from .autonotebook import tqdm as notebook_tqdm\n"
     ]
    }
   ],
   "source": [
    "# Main imports\n",
    "import curiosidade\n",
    "import torch\n",
    "import torch.nn\n",
    "\n",
    "\n",
    "# Example imports\n",
    "import functools\n",
    "\n",
    "import numpy as np\n",
    "import torch.nn.functional as F\n",
    "import sentence_transformers\n",
    "import datasets\n",
    "import torchmetrics\n",
    "import matplotlib.pyplot as plt\n",
    "import seaborn as sns\n",
    "\n",
    "%load_ext autoreload\n",
    "%autoreload 2"
   ]
  },
  {
   "cell_type": "markdown",
   "id": "566ca4b8",
   "metadata": {},
   "source": [
    "## Setup pretrained model"
   ]
  },
  {
   "cell_type": "code",
   "execution_count": 2,
   "id": "02cfa2c2",
   "metadata": {
    "ExecuteTime": {
     "end_time": "2022-04-23T02:53:16.086653Z",
     "start_time": "2022-04-23T02:53:00.817561Z"
    }
   },
   "outputs": [],
   "source": [
    "minilm = sentence_transformers.SentenceTransformer(\"paraphrase-MiniLM-L6-v2\")\n",
    "\n",
    "tokenizer = minilm.tokenizer\n",
    "bert = minilm.get_submodule(\"0\")"
   ]
  },
  {
   "cell_type": "code",
   "execution_count": 3,
   "id": "9c7ed536",
   "metadata": {
    "ExecuteTime": {
     "end_time": "2022-04-23T02:53:16.153684Z",
     "start_time": "2022-04-23T02:53:16.091450Z"
    }
   },
   "outputs": [
    {
     "data": {
      "text/plain": [
       "['auto_model',\n",
       " 'auto_model.embeddings',\n",
       " 'auto_model.embeddings.word_embeddings',\n",
       " 'auto_model.embeddings.position_embeddings',\n",
       " 'auto_model.embeddings.token_type_embeddings',\n",
       " 'auto_model.embeddings.LayerNorm',\n",
       " 'auto_model.embeddings.dropout',\n",
       " 'auto_model.encoder',\n",
       " 'auto_model.encoder.layer',\n",
       " 'auto_model.encoder.layer.0',\n",
       " 'auto_model.encoder.layer.0.attention',\n",
       " 'auto_model.encoder.layer.0.attention.self',\n",
       " 'auto_model.encoder.layer.0.attention.self.query',\n",
       " 'auto_model.encoder.layer.0.attention.self.key',\n",
       " 'auto_model.encoder.layer.0.attention.self.value',\n",
       " 'auto_model.encoder.layer.0.attention.self.dropout',\n",
       " 'auto_model.encoder.layer.0.attention.output',\n",
       " 'auto_model.encoder.layer.0.attention.output.dense',\n",
       " 'auto_model.encoder.layer.0.attention.output.LayerNorm',\n",
       " 'auto_model.encoder.layer.0.attention.output.dropout',\n",
       " 'auto_model.encoder.layer.0.intermediate',\n",
       " 'auto_model.encoder.layer.0.intermediate.dense',\n",
       " 'auto_model.encoder.layer.0.intermediate.intermediate_act_fn',\n",
       " 'auto_model.encoder.layer.0.output',\n",
       " 'auto_model.encoder.layer.0.output.dense',\n",
       " 'auto_model.encoder.layer.0.output.LayerNorm',\n",
       " 'auto_model.encoder.layer.0.output.dropout',\n",
       " 'auto_model.encoder.layer.1',\n",
       " 'auto_model.encoder.layer.1.attention',\n",
       " 'auto_model.encoder.layer.1.attention.self',\n",
       " 'auto_model.encoder.layer.1.attention.self.query',\n",
       " 'auto_model.encoder.layer.1.attention.self.key',\n",
       " 'auto_model.encoder.layer.1.attention.self.value',\n",
       " 'auto_model.encoder.layer.1.attention.self.dropout',\n",
       " 'auto_model.encoder.layer.1.attention.output',\n",
       " 'auto_model.encoder.layer.1.attention.output.dense',\n",
       " 'auto_model.encoder.layer.1.attention.output.LayerNorm',\n",
       " 'auto_model.encoder.layer.1.attention.output.dropout',\n",
       " 'auto_model.encoder.layer.1.intermediate',\n",
       " 'auto_model.encoder.layer.1.intermediate.dense',\n",
       " 'auto_model.encoder.layer.1.output',\n",
       " 'auto_model.encoder.layer.1.output.dense',\n",
       " 'auto_model.encoder.layer.1.output.LayerNorm',\n",
       " 'auto_model.encoder.layer.1.output.dropout',\n",
       " 'auto_model.encoder.layer.2',\n",
       " 'auto_model.encoder.layer.2.attention',\n",
       " 'auto_model.encoder.layer.2.attention.self',\n",
       " 'auto_model.encoder.layer.2.attention.self.query',\n",
       " 'auto_model.encoder.layer.2.attention.self.key',\n",
       " 'auto_model.encoder.layer.2.attention.self.value',\n",
       " 'auto_model.encoder.layer.2.attention.self.dropout',\n",
       " 'auto_model.encoder.layer.2.attention.output',\n",
       " 'auto_model.encoder.layer.2.attention.output.dense',\n",
       " 'auto_model.encoder.layer.2.attention.output.LayerNorm',\n",
       " 'auto_model.encoder.layer.2.attention.output.dropout',\n",
       " 'auto_model.encoder.layer.2.intermediate',\n",
       " 'auto_model.encoder.layer.2.intermediate.dense',\n",
       " 'auto_model.encoder.layer.2.output',\n",
       " 'auto_model.encoder.layer.2.output.dense',\n",
       " 'auto_model.encoder.layer.2.output.LayerNorm',\n",
       " 'auto_model.encoder.layer.2.output.dropout',\n",
       " 'auto_model.encoder.layer.3',\n",
       " 'auto_model.encoder.layer.3.attention',\n",
       " 'auto_model.encoder.layer.3.attention.self',\n",
       " 'auto_model.encoder.layer.3.attention.self.query',\n",
       " 'auto_model.encoder.layer.3.attention.self.key',\n",
       " 'auto_model.encoder.layer.3.attention.self.value',\n",
       " 'auto_model.encoder.layer.3.attention.self.dropout',\n",
       " 'auto_model.encoder.layer.3.attention.output',\n",
       " 'auto_model.encoder.layer.3.attention.output.dense',\n",
       " 'auto_model.encoder.layer.3.attention.output.LayerNorm',\n",
       " 'auto_model.encoder.layer.3.attention.output.dropout',\n",
       " 'auto_model.encoder.layer.3.intermediate',\n",
       " 'auto_model.encoder.layer.3.intermediate.dense',\n",
       " 'auto_model.encoder.layer.3.output',\n",
       " 'auto_model.encoder.layer.3.output.dense',\n",
       " 'auto_model.encoder.layer.3.output.LayerNorm',\n",
       " 'auto_model.encoder.layer.3.output.dropout',\n",
       " 'auto_model.encoder.layer.4',\n",
       " 'auto_model.encoder.layer.4.attention',\n",
       " 'auto_model.encoder.layer.4.attention.self',\n",
       " 'auto_model.encoder.layer.4.attention.self.query',\n",
       " 'auto_model.encoder.layer.4.attention.self.key',\n",
       " 'auto_model.encoder.layer.4.attention.self.value',\n",
       " 'auto_model.encoder.layer.4.attention.self.dropout',\n",
       " 'auto_model.encoder.layer.4.attention.output',\n",
       " 'auto_model.encoder.layer.4.attention.output.dense',\n",
       " 'auto_model.encoder.layer.4.attention.output.LayerNorm',\n",
       " 'auto_model.encoder.layer.4.attention.output.dropout',\n",
       " 'auto_model.encoder.layer.4.intermediate',\n",
       " 'auto_model.encoder.layer.4.intermediate.dense',\n",
       " 'auto_model.encoder.layer.4.output',\n",
       " 'auto_model.encoder.layer.4.output.dense',\n",
       " 'auto_model.encoder.layer.4.output.LayerNorm',\n",
       " 'auto_model.encoder.layer.4.output.dropout',\n",
       " 'auto_model.encoder.layer.5',\n",
       " 'auto_model.encoder.layer.5.attention',\n",
       " 'auto_model.encoder.layer.5.attention.self',\n",
       " 'auto_model.encoder.layer.5.attention.self.query',\n",
       " 'auto_model.encoder.layer.5.attention.self.key',\n",
       " 'auto_model.encoder.layer.5.attention.self.value',\n",
       " 'auto_model.encoder.layer.5.attention.self.dropout',\n",
       " 'auto_model.encoder.layer.5.attention.output',\n",
       " 'auto_model.encoder.layer.5.attention.output.dense',\n",
       " 'auto_model.encoder.layer.5.attention.output.LayerNorm',\n",
       " 'auto_model.encoder.layer.5.attention.output.dropout',\n",
       " 'auto_model.encoder.layer.5.intermediate',\n",
       " 'auto_model.encoder.layer.5.intermediate.dense',\n",
       " 'auto_model.encoder.layer.5.output',\n",
       " 'auto_model.encoder.layer.5.output.dense',\n",
       " 'auto_model.encoder.layer.5.output.LayerNorm',\n",
       " 'auto_model.encoder.layer.5.output.dropout',\n",
       " 'auto_model.pooler',\n",
       " 'auto_model.pooler.dense',\n",
       " 'auto_model.pooler.activation']"
      ]
     },
     "execution_count": 3,
     "metadata": {},
     "output_type": "execute_result"
    }
   ],
   "source": [
    "[name for name, _ in bert.named_modules() if name]"
   ]
  },
  {
   "cell_type": "markdown",
   "id": "d65e3f74",
   "metadata": {},
   "source": [
    "## Setup probing tasks"
   ]
  },
  {
   "cell_type": "markdown",
   "id": "e51fcdf1",
   "metadata": {},
   "source": [
    "### Set up probing dataset for SentLen task"
   ]
  },
  {
   "cell_type": "code",
   "execution_count": 4,
   "id": "4fe3dcd1",
   "metadata": {
    "ExecuteTime": {
     "end_time": "2022-04-23T02:53:27.763557Z",
     "start_time": "2022-04-23T02:53:16.155711Z"
    }
   },
   "outputs": [
    {
     "name": "stderr",
     "output_type": "stream",
     "text": [
      "Reusing dataset imdb (/home/felsiq/.cache/huggingface/datasets/imdb/plain_text/1.0.0/2fdd8b9bcadd6e7055e742a706876ba43f19faee861df134affd7a3f60fc38a1)\n",
      "100%|██████████████████████████████████████████████████████████████████████████████████████████████████████████████████████████████████████████████████████████| 2/2 [00:00<00:00, 510.01it/s]\n",
      "Loading cached processed dataset at /home/felsiq/.cache/huggingface/datasets/imdb/plain_text/1.0.0/2fdd8b9bcadd6e7055e742a706876ba43f19faee861df134affd7a3f60fc38a1/cache-cfb833280045c9fe.arrow\n",
      "Loading cached processed dataset at /home/felsiq/.cache/huggingface/datasets/imdb/plain_text/1.0.0/2fdd8b9bcadd6e7055e742a706876ba43f19faee861df134affd7a3f60fc38a1/cache-1970c26c5361de52.arrow\n",
      "Loading cached processed dataset at /home/felsiq/.cache/huggingface/datasets/imdb/plain_text/1.0.0/2fdd8b9bcadd6e7055e742a706876ba43f19faee861df134affd7a3f60fc38a1/cache-936fedeae7dd9b74.arrow\n"
     ]
    }
   ],
   "source": [
    "dataset_train, dataset_test = datasets.load_dataset(\"imdb\", split=[\"train\", \"test\"])\n",
    "\n",
    "\n",
    "def tokenize_fn(item):\n",
    "    sentlen_label = min(len(tokenizer.encode(item[\"text\"])), 512)\n",
    "    sentlen_label = float(max(1, np.ceil(sentlen_label / 64) - 1))\n",
    "\n",
    "    new_item = tokenizer(item[\"text\"], truncation=True, padding=\"max_length\")\n",
    "    new_item[\"label\"] = sentlen_label\n",
    "\n",
    "    return new_item\n",
    "\n",
    "\n",
    "num_classes = 8\n",
    "\n",
    "dataset_train = dataset_train.shard(num_shards=50, index=0)\n",
    "dataset_eval = dataset_test.shard(num_shards=50, index=0)\n",
    "dataset_test = dataset_test.shard(num_shards=50, index=2)\n",
    "\n",
    "dataset_train = dataset_train.map(tokenize_fn, remove_columns=\"text\")\n",
    "dataset_eval = dataset_eval.map(tokenize_fn, remove_columns=\"text\")\n",
    "dataset_test = dataset_test.map(tokenize_fn, remove_columns=\"text\")\n",
    "\n",
    "dataset_train.set_format(\"torch\")\n",
    "dataset_eval.set_format(\"torch\")\n",
    "dataset_test.set_format(\"torch\")"
   ]
  },
  {
   "cell_type": "code",
   "execution_count": 5,
   "id": "d85bbb2e",
   "metadata": {
    "ExecuteTime": {
     "end_time": "2022-04-23T02:53:27.788675Z",
     "start_time": "2022-04-23T02:53:27.764994Z"
    }
   },
   "outputs": [],
   "source": [
    "probing_dataloader_train = torch.utils.data.DataLoader(\n",
    "    dataset_train,\n",
    "    batch_size=32,\n",
    "    shuffle=True,\n",
    ")\n",
    "\n",
    "probing_dataloader_eval = torch.utils.data.DataLoader(\n",
    "    dataset_eval,\n",
    "    batch_size=32,\n",
    "    shuffle=False,\n",
    ")\n",
    "\n",
    "probing_dataloader_test = torch.utils.data.DataLoader(\n",
    "    dataset_test,\n",
    "    batch_size=32,\n",
    "    shuffle=False,\n",
    ")"
   ]
  },
  {
   "cell_type": "markdown",
   "id": "2b31c8f7",
   "metadata": {},
   "source": [
    "### Set up probing model architecture"
   ]
  },
  {
   "cell_type": "code",
   "execution_count": 6,
   "id": "797fd461",
   "metadata": {
    "ExecuteTime": {
     "end_time": "2022-04-23T02:53:27.809737Z",
     "start_time": "2022-04-23T02:53:27.789814Z"
    }
   },
   "outputs": [],
   "source": [
    "probing_model_fn = curiosidade.probers.utils.get_probing_model_for_sequences(\n",
    "    hidden_layer_dims=[256, 128],\n",
    "    pooling_strategy=\"mean\",\n",
    ")"
   ]
  },
  {
   "cell_type": "markdown",
   "id": "c672d035",
   "metadata": {},
   "source": [
    "### Set up probing task"
   ]
  },
  {
   "cell_type": "code",
   "execution_count": 10,
   "id": "e83ffa06",
   "metadata": {
    "ExecuteTime": {
     "end_time": "2022-04-23T02:53:46.137708Z",
     "start_time": "2022-04-23T02:53:45.520915Z"
    },
    "scrolled": false
   },
   "outputs": [
    {
     "data": {
      "text/plain": [
       "ProbingModelContainer:\n",
       "(a): Base model: InferencePrunerExtensor(SentenceTransformersAdapter(Transformer({'max_seq_length': 128, 'do_lower_case': False}) with Transformer model: BertModel ))\n",
       " | (a): Pruned module(s) (54 in total):\n",
       " |   (0): auto_model.encoder.layer.3\n",
       " |   (1): auto_model.encoder.layer.3.attention\n",
       " |   (2): auto_model.encoder.layer.3.attention.self\n",
       " |   (3): auto_model.encoder.layer.3.attention.self.query\n",
       " |   (4): auto_model.encoder.layer.3.attention.self.key\n",
       " |   (5): auto_model.encoder.layer.3.attention.self.value\n",
       " |   (6): auto_model.encoder.layer.3.attention.self.dropout\n",
       " |   (7): auto_model.encoder.layer.3.attention.output\n",
       " |   (8): auto_model.encoder.layer.3.attention.output.dense\n",
       " |   (9): auto_model.encoder.layer.3.attention.output.dropout\n",
       " |   (10): auto_model.encoder.layer.3.attention.output.LayerNorm\n",
       " |   (11): auto_model.encoder.layer.3.intermediate\n",
       " |   (12): auto_model.encoder.layer.3.intermediate.dense\n",
       " |   (13): auto_model.encoder.layer.3.output\n",
       " |   (14): auto_model.encoder.layer.3.output.dense\n",
       " |   (15): auto_model.encoder.layer.3.output.dropout\n",
       " |   (16): auto_model.encoder.layer.3.output.LayerNorm\n",
       " |   (17): auto_model.encoder.layer.4\n",
       " |   (18): auto_model.encoder.layer.4.attention\n",
       " |   (19): auto_model.encoder.layer.4.attention.self\n",
       " |   (20): auto_model.encoder.layer.4.attention.self.query\n",
       " |   (21): auto_model.encoder.layer.4.attention.self.key\n",
       " |   (22): auto_model.encoder.layer.4.attention.self.value\n",
       " |   (23): auto_model.encoder.layer.4.attention.self.dropout\n",
       " |   (24): auto_model.encoder.layer.4.attention.output\n",
       " |   (25): auto_model.encoder.layer.4.attention.output.dense\n",
       " |   (26): auto_model.encoder.layer.4.attention.output.dropout\n",
       " |   (27): auto_model.encoder.layer.4.attention.output.LayerNorm\n",
       " |   (28): auto_model.encoder.layer.4.intermediate\n",
       " |   (29): auto_model.encoder.layer.4.intermediate.dense\n",
       " |   (30): auto_model.encoder.layer.4.output\n",
       " |   (31): auto_model.encoder.layer.4.output.dense\n",
       " |   (32): auto_model.encoder.layer.4.output.dropout\n",
       " |   (33): auto_model.encoder.layer.4.output.LayerNorm\n",
       " |   (34): auto_model.encoder.layer.5\n",
       " |   (35): auto_model.encoder.layer.5.attention\n",
       " |   (36): auto_model.encoder.layer.5.attention.self\n",
       " |   (37): auto_model.encoder.layer.5.attention.self.query\n",
       " |   (38): auto_model.encoder.layer.5.attention.self.key\n",
       " |   (39): auto_model.encoder.layer.5.attention.self.value\n",
       " |   (40): auto_model.encoder.layer.5.attention.self.dropout\n",
       " |   (41): auto_model.encoder.layer.5.attention.output\n",
       " |   (42): auto_model.encoder.layer.5.attention.output.dense\n",
       " |   (43): auto_model.encoder.layer.5.attention.output.dropout\n",
       " |   (44): auto_model.encoder.layer.5.attention.output.LayerNorm\n",
       " |   (45): auto_model.encoder.layer.5.intermediate\n",
       " |   (46): auto_model.encoder.layer.5.intermediate.dense\n",
       " |   (47): auto_model.encoder.layer.5.output\n",
       " |   (48): auto_model.encoder.layer.5.output.dense\n",
       " |   (49): auto_model.encoder.layer.5.output.dropout\n",
       " |   (50): auto_model.encoder.layer.5.output.LayerNorm\n",
       " |   (51): auto_model.pooler\n",
       " |   (52): auto_model.pooler.dense\n",
       " |   (53): auto_model.pooler.activation\n",
       " |\n",
       "(b): Task name: sbert sentlen (example #4)\n",
       "(c): Probing dataset(s):\n",
       " | (train):   16 batches of size (at most) 32.\n",
       " | (eval) :   16 batches of size (at most) 32.\n",
       " | (test) :   16 batches of size (at most) 32.\n",
       "(d): Probed module(s) (2 in total):\n",
       " | (0): auto_model.encoder.layer.0\n",
       " | (1): auto_model.encoder.layer.2"
      ]
     },
     "execution_count": 10,
     "metadata": {},
     "output_type": "execute_result"
    }
   ],
   "source": [
    "acc_fn = torchmetrics.Accuracy(num_classes=num_classes).to(\"cuda\")\n",
    "f1_fn = torchmetrics.F1Score(num_classes=num_classes).to(\"cuda\")\n",
    "\n",
    "\n",
    "def metrics_fn(logits, truth_labels):\n",
    "    acc = acc_fn(logits, truth_labels).detach().cpu().item()\n",
    "    f1 = f1_fn(logits, truth_labels).detach().cpu().item()\n",
    "    return {\"accuracy\": acc, \"f1\": f1}\n",
    "\n",
    "\n",
    "task = curiosidade.ProbingTaskCustom(\n",
    "    probing_dataloader_train=probing_dataloader_train,\n",
    "    probing_dataloader_eval=probing_dataloader_eval,\n",
    "    probing_dataloader_test=probing_dataloader_test,\n",
    "    loss_fn=torch.nn.CrossEntropyLoss(),\n",
    "    task_name=\"sbert sentlen (example #4)\",\n",
    "    output_dim=num_classes,\n",
    "    metrics_fn=metrics_fn,\n",
    ")\n",
    "\n",
    "\n",
    "optim_fn = functools.partial(torch.optim.Adam, lr=0.05)\n",
    "lr_scheduler_fn = functools.partial(torch.optim.lr_scheduler.ExponentialLR, gamma=0.8)\n",
    "\n",
    "probing_factory = curiosidade.ProbingModelFactory(\n",
    "    task=task,\n",
    "    probing_model_fn=probing_model_fn,\n",
    "    optim_fn=optim_fn,\n",
    "    lr_scheduler_fn=lr_scheduler_fn,\n",
    ")\n",
    "\n",
    "prober_container = curiosidade.core.attach_probers(\n",
    "    base_model=bert,\n",
    "    probing_model_factory=probing_factory,\n",
    "    modules_to_attach=\"auto_model.encoder.layer.[02]\",\n",
    "    device=\"cuda\",\n",
    "    prune_unrelated_modules=\"infer\",\n",
    ")\n",
    "\n",
    "prober_container"
   ]
  },
  {
   "cell_type": "markdown",
   "id": "e26252aa",
   "metadata": {},
   "source": [
    "### Train probing model"
   ]
  },
  {
   "cell_type": "code",
   "execution_count": 11,
   "id": "c77ec7af",
   "metadata": {
    "ExecuteTime": {
     "end_time": "2022-04-23T02:54:31.865739Z",
     "start_time": "2022-04-23T02:53:52.124010Z"
    }
   },
   "outputs": [
    {
     "name": "stderr",
     "output_type": "stream",
     "text": [
      "100%|█████████████████████████████████████████████████████████████████████████████████████████████████████████████████████████████████████████████████████████| 16/16 [00:04<00:00,  3.62it/s]\n",
      "100%|█████████████████████████████████████████████████████████████████████████████████████████████████████████████████████████████████████████████████████████| 16/16 [00:04<00:00,  3.62it/s]\n",
      "100%|█████████████████████████████████████████████████████████████████████████████████████████████████████████████████████████████████████████████████████████| 16/16 [00:04<00:00,  3.61it/s]\n",
      "100%|█████████████████████████████████████████████████████████████████████████████████████████████████████████████████████████████████████████████████████████| 16/16 [00:04<00:00,  3.61it/s]\n"
     ]
    }
   ],
   "source": [
    "probing_results = prober_container.train(\n",
    "    num_epochs=4,\n",
    "    show_progress_bar=\"epoch\",\n",
    "    gradient_accumulation_steps=2,\n",
    ")"
   ]
  },
  {
   "cell_type": "markdown",
   "id": "a56ca6e5",
   "metadata": {},
   "source": [
    "## Analyzing results"
   ]
  },
  {
   "cell_type": "code",
   "execution_count": 12,
   "id": "8dcf4d58",
   "metadata": {
    "ExecuteTime": {
     "end_time": "2022-04-23T02:54:32.348908Z",
     "start_time": "2022-04-23T02:54:31.867215Z"
    }
   },
   "outputs": [
    {
     "data": {
      "image/png": "[encoded data removed]",
      "text/plain": [
       "<Figure size 1152x648 with 2 Axes>"
      ]
     },
     "metadata": {},
     "output_type": "display_data"
    }
   ],
   "source": [
    "sns.set_theme(\n",
    "    context=\"notebook\",\n",
    "    style=\"whitegrid\",\n",
    "    font_scale=1.2,\n",
    "    palette=\"colorblind\",\n",
    ")\n",
    "\n",
    "fig, (ax_train, ax_eval) = plt.subplots(2, figsize=(16, 9), sharey=True, sharex=True)\n",
    "\n",
    "df_train, df_eval, df_test = probing_results.to_pandas(aggregate_by=[\"batch_index\"])\n",
    "\n",
    "common_kwargs = dict(\n",
    "    hue=\"metric_name\",\n",
    "    y=\"metric\",\n",
    "    x=\"epoch\",\n",
    "    size=\"module\",\n",
    "    style=\"metric_name\",\n",
    "    markers=[\"X\", \"o\", \"*\"],\n",
    "    markersize=10,\n",
    "    size_order=[\"auto_model.encoder.layer.2\", \"auto_model.encoder.layer.0\"],\n",
    ")\n",
    "\n",
    "sns.lineplot(data=df_train, ax=ax_train, **common_kwargs)\n",
    "sns.lineplot(data=df_eval, ax=ax_eval, **common_kwargs)\n",
    "\n",
    "ax_train.set_title(\"Train split\")\n",
    "ax_eval.set_title(\"Eval split\")\n",
    "\n",
    "plt.show();"
   ]
  },
  {
   "cell_type": "code",
   "execution_count": 13,
   "id": "bd5d9547",
   "metadata": {
    "ExecuteTime": {
     "end_time": "2022-04-23T02:54:32.382336Z",
     "start_time": "2022-04-23T02:54:32.350148Z"
    }
   },
   "outputs": [
    {
     "data": {
      "text/html": [
       "<div>\n",
       "<style scoped>\n",
       "    .dataframe tbody tr th:only-of-type {\n",
       "        vertical-align: middle;\n",
       "    }\n",
       "\n",
       "    .dataframe tbody tr th {\n",
       "        vertical-align: top;\n",
       "    }\n",
       "\n",
       "    .dataframe thead th {\n",
       "        text-align: right;\n",
       "    }\n",
       "</style>\n",
       "<table border=\"1\" class=\"dataframe\">\n",
       "  <thead>\n",
       "    <tr style=\"text-align: right;\">\n",
       "      <th></th>\n",
       "      <th>epoch</th>\n",
       "      <th>metric_name</th>\n",
       "      <th>module</th>\n",
       "      <th>metric</th>\n",
       "    </tr>\n",
       "  </thead>\n",
       "  <tbody>\n",
       "    <tr>\n",
       "      <th>0</th>\n",
       "      <td>-1</td>\n",
       "      <td>accuracy</td>\n",
       "      <td>auto_model.encoder.layer.0</td>\n",
       "      <td>0.897656</td>\n",
       "    </tr>\n",
       "    <tr>\n",
       "      <th>1</th>\n",
       "      <td>-1</td>\n",
       "      <td>accuracy</td>\n",
       "      <td>auto_model.encoder.layer.2</td>\n",
       "      <td>0.742969</td>\n",
       "    </tr>\n",
       "    <tr>\n",
       "      <th>2</th>\n",
       "      <td>-1</td>\n",
       "      <td>f1</td>\n",
       "      <td>auto_model.encoder.layer.0</td>\n",
       "      <td>0.897656</td>\n",
       "    </tr>\n",
       "    <tr>\n",
       "      <th>3</th>\n",
       "      <td>-1</td>\n",
       "      <td>f1</td>\n",
       "      <td>auto_model.encoder.layer.2</td>\n",
       "      <td>0.742969</td>\n",
       "    </tr>\n",
       "    <tr>\n",
       "      <th>4</th>\n",
       "      <td>-1</td>\n",
       "      <td>loss</td>\n",
       "      <td>auto_model.encoder.layer.0</td>\n",
       "      <td>0.269697</td>\n",
       "    </tr>\n",
       "    <tr>\n",
       "      <th>5</th>\n",
       "      <td>-1</td>\n",
       "      <td>loss</td>\n",
       "      <td>auto_model.encoder.layer.2</td>\n",
       "      <td>0.527696</td>\n",
       "    </tr>\n",
       "  </tbody>\n",
       "</table>\n",
       "</div>"
      ],
      "text/plain": [
       "   epoch metric_name                      module    metric\n",
       "0     -1    accuracy  auto_model.encoder.layer.0  0.897656\n",
       "1     -1    accuracy  auto_model.encoder.layer.2  0.742969\n",
       "2     -1          f1  auto_model.encoder.layer.0  0.897656\n",
       "3     -1          f1  auto_model.encoder.layer.2  0.742969\n",
       "4     -1        loss  auto_model.encoder.layer.0  0.269697\n",
       "5     -1        loss  auto_model.encoder.layer.2  0.527696"
      ]
     },
     "execution_count": 13,
     "metadata": {},
     "output_type": "execute_result"
    }
   ],
   "source": [
    "df_test"
   ]
  }
 ],
 "metadata": {
  "kernelspec": {
   "display_name": "Python 3",
   "language": "python",
   "name": "python3"
  },
  "language_info": {
   "codemirror_mode": {
    "name": "ipython",
    "version": 3
   },
   "file_extension": ".py",
   "mimetype": "text/x-python",
   "name": "python",
   "nbconvert_exporter": "python",
   "pygments_lexer": "ipython3",
   "version": "3.9.10"
  },
  "latex_envs": {
   "LaTeX_envs_menu_present": true,
   "autoclose": false,
   "autocomplete": true,
   "bibliofile": "biblio.bib",
   "cite_by": "apalike",
   "current_citInitial": 1,
   "eqLabelWithNumbers": true,
   "eqNumInitial": 1,
   "hotkeys": {
    "equation": "Ctrl-E",
    "itemize": "Ctrl-I"
   },
   "labels_anchors": false,
   "latex_user_defs": false,
   "report_style_numbering": false,
   "user_envs_cfg": false
  },
  "toc": {
   "base_numbering": 1,
   "nav_menu": {},
   "number_sections": true,
   "sideBar": true,
   "skip_h1_title": false,
   "title_cell": "Table of Contents",
   "title_sidebar": "Contents",
   "toc_cell": false,
   "toc_position": {},
   "toc_section_display": true,
   "toc_window_display": false
  }
 },
 "nbformat": 4,
 "nbformat_minor": 5
}
