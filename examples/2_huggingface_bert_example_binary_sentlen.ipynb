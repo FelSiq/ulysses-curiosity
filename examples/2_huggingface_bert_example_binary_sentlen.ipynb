{
 "cells": [
  {
   "cell_type": "code",
   "execution_count": 1,
   "id": "5a1a0827",
   "metadata": {
    "ExecuteTime": {
     "end_time": "2022-04-19T04:51:12.359004Z",
     "start_time": "2022-04-19T04:51:10.461787Z"
    }
   },
   "outputs": [
    {
     "name": "stderr",
     "output_type": "stream",
     "text": [
      "/media/nvme/prober/venvs/py3.9.10/lib/python3.9/site-packages/tqdm/auto.py:22: TqdmWarning: IProgress not found. Please update jupyter and ipywidgets. See https://ipywidgets.readthedocs.io/en/stable/user_install.html\n",
      "  from .autonotebook import tqdm as notebook_tqdm\n"
     ]
    }
   ],
   "source": [
    "# Main imports\n",
    "import curiosidade\n",
    "import torch\n",
    "import torch.nn\n",
    "\n",
    "\n",
    "# Example imports\n",
    "import functools\n",
    "\n",
    "import numpy as np\n",
    "import torch.nn.functional as F\n",
    "import transformers\n",
    "import datasets\n",
    "import torchmetrics\n",
    "import matplotlib.pyplot as plt\n",
    "import seaborn as sns"
   ]
  },
  {
   "cell_type": "markdown",
   "id": "566ca4b8",
   "metadata": {},
   "source": [
    "## Setup pretrained model"
   ]
  },
  {
   "cell_type": "code",
   "execution_count": 2,
   "id": "02cfa2c2",
   "metadata": {
    "ExecuteTime": {
     "end_time": "2022-04-19T04:51:20.785765Z",
     "start_time": "2022-04-19T04:51:12.360301Z"
    }
   },
   "outputs": [
    {
     "name": "stderr",
     "output_type": "stream",
     "text": [
      "Some weights of the model checkpoint at distilbert-base-uncased were not used when initializing DistilBertModel: ['vocab_projector.weight', 'vocab_layer_norm.weight', 'vocab_transform.bias', 'vocab_projector.bias', 'vocab_layer_norm.bias', 'vocab_transform.weight']\n",
      "- This IS expected if you are initializing DistilBertModel from the checkpoint of a model trained on another task or with another architecture (e.g. initializing a BertForSequenceClassification model from a BertForPreTraining model).\n",
      "- This IS NOT expected if you are initializing DistilBertModel from the checkpoint of a model that you expect to be exactly identical (initializing a BertForSequenceClassification model from a BertForSequenceClassification model).\n"
     ]
    }
   ],
   "source": [
    "tokenizer = transformers.DistilBertTokenizer.from_pretrained(\"distilbert-base-uncased\")\n",
    "bert = transformers.DistilBertModel.from_pretrained(\"distilbert-base-uncased\")"
   ]
  },
  {
   "cell_type": "markdown",
   "id": "d65e3f74",
   "metadata": {},
   "source": [
    "## Setup probing tasks"
   ]
  },
  {
   "cell_type": "markdown",
   "id": "2a8a5298",
   "metadata": {},
   "source": [
    "### Set up probing dataset for Binary SentLen task"
   ]
  },
  {
   "cell_type": "markdown",
   "id": "692ca96b",
   "metadata": {},
   "source": [
    "In the Sentence Length (SentLen) probing task, the probing model must infer the sentence length of the original input. The challenge relies on the fact that we are going to pool away (by averaging) the axis corresponding to individual tokens, and hence de probing model must rely only the average pretrained activations to solve the task. Since probing tasks relies on classification tasks, the sentence lengths are binned in order to form the labels.\n",
    "\n",
    "In this example we'll build an even easier sentlen task: a binary sentlen, which consists of simply deciding whether an input sentence is smaller than 256 subword tokens or not. The purpose of this simplification is to showcase the usage of the binary cross-entropy loss function with this framework. A more realistic version of the SentLen task will be showcased on a future example."
   ]
  },
  {
   "cell_type": "code",
   "execution_count": 3,
   "id": "4fe3dcd1",
   "metadata": {
    "ExecuteTime": {
     "end_time": "2022-04-19T04:51:37.943096Z",
     "start_time": "2022-04-19T04:51:20.787137Z"
    }
   },
   "outputs": [
    {
     "name": "stderr",
     "output_type": "stream",
     "text": [
      "Reusing dataset imdb (/home/felsiq/.cache/huggingface/datasets/imdb/plain_text/1.0.0/2fdd8b9bcadd6e7055e742a706876ba43f19faee861df134affd7a3f60fc38a1)\n",
      "100%|██████████████████████████████████████████████████████████████████████████████████████████████████████████████████████████████████████████████████████████| 2/2 [00:00<00:00, 350.81it/s]\n",
      "  0%|                                                                                                                                                                | 0/1250 [00:00<?, ?ex/s]Token indices sequence length is longer than the specified maximum sequence length for this model (869 > 512). Running this sequence through the model will result in indexing errors\n",
      "100%|████████████████████████████████████████████████████████████████████████████████████████████████████████████████████████████████████████████████████| 1250/1250 [00:10<00:00, 117.26ex/s]\n",
      "100%|██████████████████████████████████████████████████████████████████████████████████████████████████████████████████████████████████████████████████████| 250/250 [00:02<00:00, 120.31ex/s]\n",
      "100%|██████████████████████████████████████████████████████████████████████████████████████████████████████████████████████████████████████████████████████| 250/250 [00:01<00:00, 130.37ex/s]\n"
     ]
    }
   ],
   "source": [
    "dataset_train, dataset_test = datasets.load_dataset(\"imdb\", split=[\"train\", \"test\"])\n",
    "\n",
    "def tokenize_fn(item):\n",
    "    sentlen_label = min(len(tokenizer.encode(item[\"text\"])), 512)\n",
    "    sentlen_label = float(max(1, np.ceil(sentlen_label / 256) - 1))\n",
    "    \n",
    "    new_item = tokenizer(item[\"text\"], truncation=True, padding=\"max_length\")\n",
    "    new_item[\"label\"] = sentlen_label\n",
    "    \n",
    "    return new_item\n",
    "\n",
    "dataset_train = dataset_train.shard(num_shards=20, index=0)\n",
    "dataset_eval = dataset_test.shard(num_shards=100, index=0)\n",
    "dataset_test = dataset_test.shard(num_shards=100, index=2)\n",
    "\n",
    "dataset_train = dataset_train.map(tokenize_fn, remove_columns=\"text\")\n",
    "dataset_eval = dataset_eval.map(tokenize_fn, remove_columns=\"text\")\n",
    "dataset_test = dataset_test.map(tokenize_fn, remove_columns=\"text\")\n",
    "\n",
    "dataset_train.set_format(\"torch\")\n",
    "dataset_eval.set_format(\"torch\")\n",
    "dataset_test.set_format(\"torch\")"
   ]
  },
  {
   "cell_type": "code",
   "execution_count": 4,
   "id": "b14ee5e4",
   "metadata": {
    "ExecuteTime": {
     "end_time": "2022-04-19T04:51:37.947660Z",
     "start_time": "2022-04-19T04:51:37.944527Z"
    }
   },
   "outputs": [],
   "source": [
    "probing_dataloader_train = torch.utils.data.DataLoader(\n",
    "    dataset_train,\n",
    "    batch_size=32,\n",
    "    shuffle=True,\n",
    ")\n",
    "\n",
    "probing_dataloader_eval = torch.utils.data.DataLoader(\n",
    "    dataset_eval,\n",
    "    batch_size=32,\n",
    "    shuffle=False,\n",
    ")\n",
    "\n",
    "probing_dataloader_test = torch.utils.data.DataLoader(\n",
    "    dataset_test,\n",
    "    batch_size=32,\n",
    "    shuffle=False,\n",
    ")"
   ]
  },
  {
   "cell_type": "markdown",
   "id": "405a661a",
   "metadata": {},
   "source": [
    "### Set up probing model architecture"
   ]
  },
  {
   "cell_type": "code",
   "execution_count": 5,
   "id": "797fd461",
   "metadata": {
    "ExecuteTime": {
     "end_time": "2022-04-19T04:51:37.951209Z",
     "start_time": "2022-04-19T04:51:37.948720Z"
    }
   },
   "outputs": [],
   "source": [
    "probing_model_fn = curiosidade.probers.utils.get_probing_model_for_sequences(\n",
    "    hidden_layer_dims=[256, 128],\n",
    "    pooling_strategy=\"mean\",\n",
    ")"
   ]
  },
  {
   "cell_type": "markdown",
   "id": "cc61d480",
   "metadata": {},
   "source": [
    "### Set up probing task"
   ]
  },
  {
   "cell_type": "code",
   "execution_count": 6,
   "id": "e83ffa06",
   "metadata": {
    "ExecuteTime": {
     "end_time": "2022-04-19T04:51:45.918767Z",
     "start_time": "2022-04-19T04:51:37.952272Z"
    },
    "scrolled": false
   },
   "outputs": [
    {
     "data": {
      "text/plain": [
       "ProbingModelContainer:\n",
       "(a): Base model: InferencePrunerExtensor(HuggingfaceAdapter(DistilBertModel(\n",
       " |  |  (embeddings): Embeddings(\n",
       " |  |    (word_embeddings): Embedding(30522, 768, padding_idx=0)\n",
       " |  |    (position_embeddings): Embedding(512, 768)\n",
       " |  |    (LayerNorm): LayerNorm((768,), eps=1e-12, elementwise_affine=True)\n",
       " |  |    (dropout): Dropout(p=0.1, inplace=False)\n",
       " |  |  )\n",
       " |  |  (transformer): Transformer(\n",
       " |  |    (layer): ModuleList(\n",
       " |  |      (0): TransformerBlock(\n",
       " |  |        (attention): MultiHeadSelfAttention(\n",
       " |  |          (dropout): Dropout(p=0.1, inplace=False)\n",
       " |  |          (q_lin): Linear(in_features=768, out_features=768, bias=True)\n",
       " |  |          (k_lin): Linear(in_features=768, out_features=768, bias=True)\n",
       " |  |          (v_lin): Linear(in_features=768, out_features=768, bias=True)\n",
       " |  |          (out_lin): Linear(in_features=768, out_features=768, bias=True)\n",
       " |  |        )\n",
       " |  |        (sa_layer_norm): LayerNorm((768,), eps=1e-12, elementwise_affine=True)\n",
       " |  |        (ffn): FFN(\n",
       " |  |          (dropout): Dropout(p=0.1, inplace=False)\n",
       " |  |          (lin1): Linear(in_features=768, out_features=3072, bias=True)\n",
       " |  |          (lin2): Linear(in_features=3072, out_features=768, bias=True)\n",
       " |  |          (activation): GELUActivation()\n",
       " |  |        )\n",
       " |  |        (output_layer_norm): LayerNorm((768,), eps=1e-12, elementwise_affine=True)\n",
       " |  |      )\n",
       " |  |      (1): TransformerBlock(\n",
       " |  |        (attention): MultiHeadSelfAttention(\n",
       " |  |          (dropout): Dropout(p=0.1, inplace=False)\n",
       " |  |          (q_lin): Linear(in_features=768, out_features=768, bias=True)\n",
       " |  |          (k_lin): Linear(in_features=768, out_features=768, bias=True)\n",
       " |  |          (v_lin): Linear(in_features=768, out_features=768, bias=True)\n",
       " |  |          (out_lin): Linear(in_features=768, out_features=768, bias=True)\n",
       " |  |        )\n",
       " |  |        (sa_layer_norm): LayerNorm((768,), eps=1e-12, elementwise_affine=True)\n",
       " |  |        (ffn): FFN(\n",
       " |  |          (dropout): Dropout(p=0.1, inplace=False)\n",
       " |  |          (lin1): Linear(in_features=768, out_features=3072, bias=True)\n",
       " |  |          (lin2): Linear(in_features=3072, out_features=768, bias=True)\n",
       " |  |          (activation): GELUActivation()\n",
       " |  |        )\n",
       " |  |        (output_layer_norm): LayerNorm((768,), eps=1e-12, elementwise_affine=True)\n",
       " |  |      )\n",
       " |  |      (2): TransformerBlock(\n",
       " |  |        (attention): MultiHeadSelfAttention(\n",
       " |  |          (dropout): Dropout(p=0.1, inplace=False)\n",
       " |  |          (q_lin): Linear(in_features=768, out_features=768, bias=True)\n",
       " |  |          (k_lin): Linear(in_features=768, out_features=768, bias=True)\n",
       " |  |          (v_lin): Linear(in_features=768, out_features=768, bias=True)\n",
       " |  |          (out_lin): Linear(in_features=768, out_features=768, bias=True)\n",
       " |  |        )\n",
       " |  |        (sa_layer_norm): LayerNorm((768,), eps=1e-12, elementwise_affine=True)\n",
       " |  |        (ffn): FFN(\n",
       " |  |          (dropout): Dropout(p=0.1, inplace=False)\n",
       " |  |          (lin1): Linear(in_features=768, out_features=3072, bias=True)\n",
       " |  |          (lin2): Linear(in_features=3072, out_features=768, bias=True)\n",
       " |  |          (activation): GELUActivation()\n",
       " |  |        )\n",
       " |  |        (output_layer_norm): LayerNorm((768,), eps=1e-12, elementwise_affine=True)\n",
       " |  |      )\n",
       " |  |      (3): TransformerBlock(\n",
       " |  |        (attention): MultiHeadSelfAttention(\n",
       " |  |          (dropout): Dropout(p=0.1, inplace=False)\n",
       " |  |          (q_lin): Linear(in_features=768, out_features=768, bias=True)\n",
       " |  |          (k_lin): Linear(in_features=768, out_features=768, bias=True)\n",
       " |  |          (v_lin): Linear(in_features=768, out_features=768, bias=True)\n",
       " |  |          (out_lin): Linear(in_features=768, out_features=768, bias=True)\n",
       " |  |        )\n",
       " |  |        (sa_layer_norm): LayerNorm((768,), eps=1e-12, elementwise_affine=True)\n",
       " |  |        (ffn): FFN(\n",
       " |  |          (dropout): Dropout(p=0.1, inplace=False)\n",
       " |  |          (lin1): Linear(in_features=768, out_features=3072, bias=True)\n",
       " |  |          (lin2): Linear(in_features=3072, out_features=768, bias=True)\n",
       " |  |          (activation): GELUActivation()\n",
       " |  |        )\n",
       " |  |        (output_layer_norm): LayerNorm((768,), eps=1e-12, elementwise_affine=True)\n",
       " |  |      )\n",
       " |  |      (4): TransformerBlock(\n",
       " |  |        (attention): MultiHeadSelfAttention(\n",
       " |  |          (dropout): Dropout(p=0.1, inplace=False)\n",
       " |  |          (q_lin): Linear(in_features=768, out_features=768, bias=True)\n",
       " |  |          (k_lin): Linear(in_features=768, out_features=768, bias=True)\n",
       " |  |          (v_lin): Linear(in_features=768, out_features=768, bias=True)\n",
       " |  |          (out_lin): Linear(in_features=768, out_features=768, bias=True)\n",
       " |  |        )\n",
       " |  |        (sa_layer_norm): LayerNorm((768,), eps=1e-12, elementwise_affine=True)\n",
       " |  |        (ffn): FFN(\n",
       " |  |          (dropout): Dropout(p=0.1, inplace=False)\n",
       " |  |          (lin1): Linear(in_features=768, out_features=3072, bias=True)\n",
       " |  |          (lin2): Linear(in_features=3072, out_features=768, bias=True)\n",
       " |  |          (activation): GELUActivation()\n",
       " |  |        )\n",
       " |  |        (output_layer_norm): LayerNorm((768,), eps=1e-12, elementwise_affine=True)\n",
       " |  |      )\n",
       " |  |      (5): TransformerBlock(\n",
       " |  |        (attention): MultiHeadSelfAttention(\n",
       " |  |          (dropout): Dropout(p=0.1, inplace=False)\n",
       " |  |          (q_lin): Linear(in_features=768, out_features=768, bias=True)\n",
       " |  |          (k_lin): Linear(in_features=768, out_features=768, bias=True)\n",
       " |  |          (v_lin): Linear(in_features=768, out_features=768, bias=True)\n",
       " |  |          (out_lin): Linear(in_features=768, out_features=768, bias=True)\n",
       " |  |        )\n",
       " |  |        (sa_layer_norm): LayerNorm((768,), eps=1e-12, elementwise_affine=True)\n",
       " |  |        (ffn): FFN(\n",
       " |  |          (dropout): Dropout(p=0.1, inplace=False)\n",
       " |  |          (lin1): Linear(in_features=768, out_features=3072, bias=True)\n",
       " |  |          (lin2): Linear(in_features=3072, out_features=768, bias=True)\n",
       " |  |          (activation): GELUActivation()\n",
       " |  |        )\n",
       " |  |        (output_layer_norm): LayerNorm((768,), eps=1e-12, elementwise_affine=True)\n",
       " |  |      )\n",
       " |  |    )\n",
       " |  |  )\n",
       " |  |)))\n",
       " | (a): Pruned module(s) (26 in total):\n",
       " |   (0): transformer.layer.4\n",
       " |   (1): transformer.layer.4.attention\n",
       " |   (2): transformer.layer.4.attention.q_lin\n",
       " |   (3): transformer.layer.4.attention.k_lin\n",
       " |   (4): transformer.layer.4.attention.v_lin\n",
       " |   (5): transformer.layer.4.attention.dropout\n",
       " |   (6): transformer.layer.4.attention.out_lin\n",
       " |   (7): transformer.layer.4.sa_layer_norm\n",
       " |   (8): transformer.layer.4.ffn\n",
       " |   (9): transformer.layer.4.ffn.lin1\n",
       " |   (10): transformer.layer.4.ffn.lin2\n",
       " |   (11): transformer.layer.4.ffn.dropout\n",
       " |   (12): transformer.layer.4.output_layer_norm\n",
       " |   (13): transformer.layer.5\n",
       " |   (14): transformer.layer.5.attention\n",
       " |   (15): transformer.layer.5.attention.q_lin\n",
       " |   (16): transformer.layer.5.attention.k_lin\n",
       " |   (17): transformer.layer.5.attention.v_lin\n",
       " |   (18): transformer.layer.5.attention.dropout\n",
       " |   (19): transformer.layer.5.attention.out_lin\n",
       " |   (20): transformer.layer.5.sa_layer_norm\n",
       " |   (21): transformer.layer.5.ffn\n",
       " |   (22): transformer.layer.5.ffn.lin1\n",
       " |   (23): transformer.layer.5.ffn.lin2\n",
       " |   (24): transformer.layer.5.ffn.dropout\n",
       " |   (25): transformer.layer.5.output_layer_norm\n",
       " |\n",
       "(b): Task name: distilbert binary sentlen (example #2)\n",
       "(c): Probing dataset(s):\n",
       " | (train):   40 batches of size (at most) 32.\n",
       " | (eval) :    8 batches of size (at most) 32.\n",
       " | (test) :    8 batches of size (at most) 32.\n",
       "(d): Probed module(s) (2 in total):\n",
       " | (0): transformer.layer.1\n",
       " | (1): transformer.layer.3"
      ]
     },
     "execution_count": 6,
     "metadata": {},
     "output_type": "execute_result"
    }
   ],
   "source": [
    "acc_fn = torchmetrics.Accuracy(num_classes=1).to(\"cuda\")\n",
    "f1_fn = torchmetrics.F1Score(num_classes=1).to(\"cuda\")\n",
    "\n",
    "\n",
    "def metrics_fn(logits, truth_labels):\n",
    "    acc = acc_fn(logits, truth_labels).detach().cpu().item()\n",
    "    f1 = f1_fn(logits, truth_labels).detach().cpu().item()\n",
    "    return {\"accuracy\": acc, \"f1\": f1}\n",
    "\n",
    "\n",
    "loss_fn = lambda logits, labels: F.binary_cross_entropy_with_logits(logits, labels.float())\n",
    "\n",
    "task = curiosidade.ProbingTaskCustom(\n",
    "    probing_dataloader_train=probing_dataloader_train,\n",
    "    probing_dataloader_eval=probing_dataloader_eval,\n",
    "    probing_dataloader_test=probing_dataloader_test,\n",
    "    loss_fn=loss_fn,\n",
    "    task_name=\"distilbert binary sentlen (example #2)\",\n",
    "    output_dim=1,\n",
    "    metrics_fn=metrics_fn,\n",
    ")\n",
    "\n",
    "\n",
    "optim_fn = functools.partial(torch.optim.Adam, lr=0.025)\n",
    "lr_scheduler_fn = functools.partial(torch.optim.lr_scheduler.ExponentialLR, gamma=0.5)\n",
    "\n",
    "probing_factory = curiosidade.ProbingModelFactory(\n",
    "    task=task,\n",
    "    probing_model_fn=probing_model_fn,\n",
    "    optim_fn=optim_fn,\n",
    "    lr_scheduler_fn=lr_scheduler_fn,\n",
    ")\n",
    "\n",
    "prober_container = curiosidade.core.attach_probers(\n",
    "    base_model=bert,\n",
    "    probing_model_factory=probing_factory,\n",
    "    modules_to_attach=\"transformer.layer.[13]\",\n",
    "    device=\"cuda\",\n",
    "    prune_unrelated_modules=\"infer\",\n",
    ")\n",
    "\n",
    "prober_container"
   ]
  },
  {
   "cell_type": "markdown",
   "id": "4b49af2c",
   "metadata": {},
   "source": [
    "### Train probing model"
   ]
  },
  {
   "cell_type": "code",
   "execution_count": 7,
   "id": "c77ec7af",
   "metadata": {
    "ExecuteTime": {
     "end_time": "2022-04-19T04:56:16.920567Z",
     "start_time": "2022-04-19T04:51:45.920151Z"
    }
   },
   "outputs": [
    {
     "name": "stderr",
     "output_type": "stream",
     "text": [
      "100%|█████████████████████████████████████████████████████████████████████████████████████████████████████████████████████████████████████████████████████████| 40/40 [00:43<00:00,  1.09s/it]\n",
      "100%|█████████████████████████████████████████████████████████████████████████████████████████████████████████████████████████████████████████████████████████| 40/40 [00:43<00:00,  1.09s/it]\n",
      "100%|█████████████████████████████████████████████████████████████████████████████████████████████████████████████████████████████████████████████████████████| 40/40 [00:43<00:00,  1.09s/it]\n",
      "100%|█████████████████████████████████████████████████████████████████████████████████████████████████████████████████████████████████████████████████████████| 40/40 [00:43<00:00,  1.09s/it]\n",
      "100%|█████████████████████████████████████████████████████████████████████████████████████████████████████████████████████████████████████████████████████████| 40/40 [00:43<00:00,  1.09s/it]\n"
     ]
    }
   ],
   "source": [
    "probing_results = prober_container.train(\n",
    "    num_epochs=5,\n",
    "    show_progress_bar=\"epoch\",\n",
    "    gradient_accumulation_steps=2,\n",
    ")"
   ]
  },
  {
   "cell_type": "markdown",
   "id": "81370be0",
   "metadata": {},
   "source": [
    "## Analyzing results"
   ]
  },
  {
   "cell_type": "code",
   "execution_count": 8,
   "id": "264419be",
   "metadata": {
    "ExecuteTime": {
     "end_time": "2022-04-19T04:56:17.450478Z",
     "start_time": "2022-04-19T04:56:16.922303Z"
    }
   },
   "outputs": [
    {
     "data": {
      "image/png": "[encoded data removed]",
      "text/plain": [
       "<Figure size 1152x648 with 2 Axes>"
      ]
     },
     "metadata": {},
     "output_type": "display_data"
    }
   ],
   "source": [
    "sns.set_theme(\n",
    "    context=\"notebook\",\n",
    "    style=\"whitegrid\",\n",
    "    font_scale=1.2,\n",
    "    palette=\"colorblind\",\n",
    ")\n",
    "\n",
    "fig, (ax_train, ax_eval) = plt.subplots(2, figsize=(16, 9), sharey=True, sharex=True)\n",
    "\n",
    "df_train, df_eval, df_test = probing_results.to_pandas(aggregate_by=[\"batch_index\"])\n",
    "\n",
    "common_kwargs = dict(\n",
    "    hue=\"metric_name\",\n",
    "    y=\"metric\",\n",
    "    x=\"epoch\",\n",
    "    size=\"module\",\n",
    "    style=\"metric_name\",\n",
    "    markers=[\"X\", \"o\", \"*\"],\n",
    "    markersize=10,\n",
    "    size_order=[\"transformer.layer.3\", \"transformer.layer.1\"],\n",
    ")\n",
    "\n",
    "sns.lineplot(data=df_train, ax=ax_train, **common_kwargs)\n",
    "sns.lineplot(data=df_eval, ax=ax_eval, **common_kwargs)\n",
    "\n",
    "ax_train.set_title(\"Train split\")\n",
    "ax_eval.set_title(\"Eval split\")\n",
    "\n",
    "plt.show();"
   ]
  },
  {
   "cell_type": "code",
   "execution_count": 9,
   "id": "29d191f8",
   "metadata": {
    "ExecuteTime": {
     "end_time": "2022-04-19T04:56:17.459647Z",
     "start_time": "2022-04-19T04:56:17.451806Z"
    }
   },
   "outputs": [
    {
     "data": {
      "text/html": [
       "<div>\n",
       "<style scoped>\n",
       "    .dataframe tbody tr th:only-of-type {\n",
       "        vertical-align: middle;\n",
       "    }\n",
       "\n",
       "    .dataframe tbody tr th {\n",
       "        vertical-align: top;\n",
       "    }\n",
       "\n",
       "    .dataframe thead th {\n",
       "        text-align: right;\n",
       "    }\n",
       "</style>\n",
       "<table border=\"1\" class=\"dataframe\">\n",
       "  <thead>\n",
       "    <tr style=\"text-align: right;\">\n",
       "      <th></th>\n",
       "      <th>epoch</th>\n",
       "      <th>metric_name</th>\n",
       "      <th>module</th>\n",
       "      <th>metric</th>\n",
       "    </tr>\n",
       "  </thead>\n",
       "  <tbody>\n",
       "    <tr>\n",
       "      <th>0</th>\n",
       "      <td>-1</td>\n",
       "      <td>accuracy</td>\n",
       "      <td>transformer.layer.1</td>\n",
       "      <td>1.0</td>\n",
       "    </tr>\n",
       "    <tr>\n",
       "      <th>1</th>\n",
       "      <td>-1</td>\n",
       "      <td>accuracy</td>\n",
       "      <td>transformer.layer.3</td>\n",
       "      <td>1.0</td>\n",
       "    </tr>\n",
       "    <tr>\n",
       "      <th>2</th>\n",
       "      <td>-1</td>\n",
       "      <td>f1</td>\n",
       "      <td>transformer.layer.1</td>\n",
       "      <td>1.0</td>\n",
       "    </tr>\n",
       "    <tr>\n",
       "      <th>3</th>\n",
       "      <td>-1</td>\n",
       "      <td>f1</td>\n",
       "      <td>transformer.layer.3</td>\n",
       "      <td>1.0</td>\n",
       "    </tr>\n",
       "    <tr>\n",
       "      <th>4</th>\n",
       "      <td>-1</td>\n",
       "      <td>loss</td>\n",
       "      <td>transformer.layer.1</td>\n",
       "      <td>0.0</td>\n",
       "    </tr>\n",
       "    <tr>\n",
       "      <th>5</th>\n",
       "      <td>-1</td>\n",
       "      <td>loss</td>\n",
       "      <td>transformer.layer.3</td>\n",
       "      <td>0.0</td>\n",
       "    </tr>\n",
       "  </tbody>\n",
       "</table>\n",
       "</div>"
      ],
      "text/plain": [
       "   epoch metric_name               module  metric\n",
       "0     -1    accuracy  transformer.layer.1     1.0\n",
       "1     -1    accuracy  transformer.layer.3     1.0\n",
       "2     -1          f1  transformer.layer.1     1.0\n",
       "3     -1          f1  transformer.layer.3     1.0\n",
       "4     -1        loss  transformer.layer.1     0.0\n",
       "5     -1        loss  transformer.layer.3     0.0"
      ]
     },
     "execution_count": 9,
     "metadata": {},
     "output_type": "execute_result"
    }
   ],
   "source": [
    "df_test"
   ]
  }
 ],
 "metadata": {
  "kernelspec": {
   "display_name": "Python 3",
   "language": "python",
   "name": "python3"
  },
  "language_info": {
   "codemirror_mode": {
    "name": "ipython",
    "version": 3
   },
   "file_extension": ".py",
   "mimetype": "text/x-python",
   "name": "python",
   "nbconvert_exporter": "python",
   "pygments_lexer": "ipython3",
   "version": "3.9.10"
  },
  "latex_envs": {
   "LaTeX_envs_menu_present": true,
   "autoclose": false,
   "autocomplete": true,
   "bibliofile": "biblio.bib",
   "cite_by": "apalike",
   "current_citInitial": 1,
   "eqLabelWithNumbers": true,
   "eqNumInitial": 1,
   "hotkeys": {
    "equation": "Ctrl-E",
    "itemize": "Ctrl-I"
   },
   "labels_anchors": false,
   "latex_user_defs": false,
   "report_style_numbering": false,
   "user_envs_cfg": false
  },
  "toc": {
   "base_numbering": 1,
   "nav_menu": {},
   "number_sections": true,
   "sideBar": true,
   "skip_h1_title": false,
   "title_cell": "Table of Contents",
   "title_sidebar": "Contents",
   "toc_cell": false,
   "toc_position": {},
   "toc_section_display": true,
   "toc_window_display": false
  }
 },
 "nbformat": 4,
 "nbformat_minor": 5
}
