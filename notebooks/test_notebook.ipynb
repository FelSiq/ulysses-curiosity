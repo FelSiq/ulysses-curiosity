{
 "cells": [
  {
   "cell_type": "code",
   "execution_count": 3,
   "id": "35db7bbd",
   "metadata": {
    "ExecuteTime": {
     "end_time": "2022-04-15T00:23:11.017808Z",
     "start_time": "2022-04-15T00:23:10.239045Z"
    }
   },
   "outputs": [],
   "source": [
    "import collections\n",
    "\n",
    "import matplotlib.pyplot as plt\n",
    "import seaborn as sns\n",
    "import pandas as pd\n",
    "import torch\n",
    "import numpy as np\n",
    "\n",
    "import curiosidade\n",
    "\n",
    "\n",
    "%load_ext autoreload\n",
    "%autoreload 2"
   ]
  },
  {
   "cell_type": "markdown",
   "id": "c6b77132",
   "metadata": {},
   "source": [
    "## Torch setup"
   ]
  },
  {
   "cell_type": "code",
   "execution_count": 2,
   "id": "97eb479b",
   "metadata": {
    "ExecuteTime": {
     "end_time": "2022-04-14T23:22:07.068966Z",
     "start_time": "2022-04-14T23:22:07.048642Z"
    }
   },
   "outputs": [
    {
     "data": {
      "text/plain": [
       "(torch.Size([150, 4]), torch.Size([150]), 2)"
      ]
     },
     "execution_count": 2,
     "metadata": {},
     "output_type": "execute_result"
    }
   ],
   "source": [
    "loss_fn = torch.nn.CrossEntropyLoss()\n",
    "\n",
    "rnd_state = np.random.RandomState(8)\n",
    "\n",
    "X = torch.from_numpy(rnd_state.randn(150, 4)).float()\n",
    "y = X.mean(axis=1).round().abs().long()\n",
    "\n",
    "probing_dataloader = torch.utils.data.DataLoader(\n",
    "    torch.utils.data.TensorDataset(X, y),\n",
    "    batch_size=10,\n",
    "    shuffle=True,\n",
    ")\n",
    "\n",
    "num_cls = y.unique().numel()\n",
    "X.shape, y.shape, num_cls"
   ]
  },
  {
   "cell_type": "code",
   "execution_count": 3,
   "id": "1b13761d",
   "metadata": {
    "ExecuteTime": {
     "end_time": "2022-04-14T23:22:07.089311Z",
     "start_time": "2022-04-14T23:22:07.071827Z"
    }
   },
   "outputs": [],
   "source": [
    "class BaseModel(torch.nn.Module):\n",
    "    def __init__(self):\n",
    "        super().__init__()\n",
    "        \n",
    "        self.params = torch.nn.Sequential(\n",
    "            collections.OrderedDict((\n",
    "                (\"lin1\", torch.nn.Linear(X.shape[1], 15, bias=True)),\n",
    "                (\"relu1\", torch.nn.ReLU(inplace=True)),\n",
    "                (\"lin2\", torch.nn.Linear(15, 25, bias=True)),\n",
    "                (\"relu2\", torch.nn.ReLU(inplace=True)),\n",
    "                (\"lin3\", torch.nn.Linear(25, num_cls)),\n",
    "            )),\n",
    "        )\n",
    "    \n",
    "    def forward(self, X):\n",
    "        return self.params(X)\n",
    "    \n",
    "    \n",
    "class ProbingModel(torch.nn.Module):\n",
    "    def __init__(self, input_dim: int):\n",
    "        super().__init__()\n",
    "        self.params = torch.nn.Sequential(\n",
    "            torch.nn.Linear(input_dim, num_cls, bias=True),\n",
    "        )\n",
    "    \n",
    "    def forward(self, X):\n",
    "        return self.params(X)"
   ]
  },
  {
   "cell_type": "code",
   "execution_count": 4,
   "id": "6ffdffbd",
   "metadata": {
    "ExecuteTime": {
     "end_time": "2022-04-14T23:22:07.673093Z",
     "start_time": "2022-04-14T23:22:07.090696Z"
    }
   },
   "outputs": [
    {
     "name": "stdout",
     "output_type": "stream",
     "text": [
      "mov_avg_loss=0.529\n",
      "mov_avg_loss=0.602\n",
      "mov_avg_loss=0.528\n",
      "mov_avg_loss=0.330\n",
      "mov_avg_loss=0.212\n",
      "mov_avg_loss=0.159\n",
      "mov_avg_loss=0.158\n",
      "mov_avg_loss=0.131\n",
      "mov_avg_loss=0.100\n",
      "mov_avg_loss=0.113\n",
      "mov_avg_loss=0.061\n",
      "mov_avg_loss=0.103\n",
      "mov_avg_loss=0.095\n",
      "mov_avg_loss=0.093\n",
      "mov_avg_loss=0.091\n",
      "mov_avg_loss=0.084\n",
      "mov_avg_loss=0.068\n",
      "mov_avg_loss=0.040\n",
      "mov_avg_loss=0.034\n",
      "mov_avg_loss=0.037\n",
      "mov_avg_loss=0.028\n",
      "mov_avg_loss=0.030\n",
      "mov_avg_loss=0.033\n",
      "mov_avg_loss=0.034\n",
      "mov_avg_loss=0.044\n",
      "mov_avg_loss=0.040\n",
      "mov_avg_loss=0.039\n",
      "mov_avg_loss=0.035\n",
      "mov_avg_loss=0.042\n",
      "mov_avg_loss=0.042\n",
      "mov_avg_loss=0.029\n",
      "mov_avg_loss=0.036\n",
      "mov_avg_loss=0.027\n",
      "mov_avg_loss=0.022\n",
      "mov_avg_loss=0.045\n",
      "mov_avg_loss=0.019\n",
      "mov_avg_loss=0.016\n",
      "mov_avg_loss=0.011\n",
      "mov_avg_loss=0.019\n",
      "mov_avg_loss=0.021\n",
      "mov_avg_loss=0.028\n",
      "mov_avg_loss=0.046\n",
      "mov_avg_loss=0.032\n",
      "mov_avg_loss=0.033\n",
      "mov_avg_loss=0.048\n",
      "mov_avg_loss=0.020\n",
      "mov_avg_loss=0.020\n",
      "mov_avg_loss=0.024\n",
      "mov_avg_loss=0.030\n",
      "mov_avg_loss=0.024\n"
     ]
    }
   ],
   "source": [
    "base_model = BaseModel()\n",
    "optim_base = torch.optim.Adam(base_model.parameters(), lr=0.01)\n",
    "\n",
    "beta = 0.9\n",
    "mov_avg_loss = 0.0\n",
    "\n",
    "base_model = base_model.train()\n",
    "for _ in range(50):\n",
    "    for X_batch, y_batch in probing_dataloader:\n",
    "        optim_base.zero_grad()\n",
    "        y_logits = base_model(X_batch)\n",
    "        loss = loss_fn(input=y_logits, target=y_batch)\n",
    "        loss.backward()\n",
    "        optim_base.step()\n",
    "        mov_avg_loss = beta * mov_avg_loss + (1.0 - beta) * float(loss.cpu().detach().item())\n",
    "    \n",
    "    print(f\"{mov_avg_loss=:.3f}\")"
   ]
  },
  {
   "cell_type": "markdown",
   "id": "9bbbd8b8",
   "metadata": {},
   "source": [
    "## Curiosidade setup"
   ]
  },
  {
   "cell_type": "code",
   "execution_count": 5,
   "id": "1e329bb0",
   "metadata": {
    "ExecuteTime": {
     "end_time": "2022-04-14T23:22:08.845509Z",
     "start_time": "2022-04-14T23:22:07.674569Z"
    }
   },
   "outputs": [
    {
     "data": {
      "text/plain": [
       "ProberPack:\n",
       "(a): Base model: BaseModel(\n",
       "  (params): Sequential(\n",
       "    (lin1): Linear(in_features=4, out_features=15, bias=True)\n",
       "    (relu1): ReLU(inplace=True)\n",
       "    (lin2): Linear(in_features=15, out_features=25, bias=True)\n",
       "    (relu2): ReLU(inplace=True)\n",
       "    (lin3): Linear(in_features=25, out_features=2, bias=True)\n",
       "  )\n",
       ")\n",
       "(b): Task name: debug_task\n",
       "(c): Probing dataset size: 15 batches of size (at most) 10.\n",
       "(d): Probed modules (2 in total):\n",
       "  (0): params.relu1\n",
       "  (1): params.relu2"
      ]
     },
     "execution_count": 5,
     "metadata": {},
     "output_type": "execute_result"
    }
   ],
   "source": [
    "import functools\n",
    "\n",
    "task = curiosidade.TaskCustom(\n",
    "    probing_dataloader=probing_dataloader,\n",
    "    loss_fn=loss_fn,\n",
    "    task_name=\"debug_task\",\n",
    ")\n",
    "\n",
    "prober = curiosidade.core.attach_probers(\n",
    "    base_model=base_model,\n",
    "    probing_model_fn=ProbingModel,\n",
    "    task=task,\n",
    "#     optim_fn=functools.partial(torch.optim.Adam, lr=0.001),\n",
    "    layers_to_attach=\"relu\\d+\",\n",
    ")\n",
    "\n",
    "probing_res = prober.train(num_epochs=100)\n",
    "\n",
    "prober"
   ]
  },
  {
   "cell_type": "code",
   "execution_count": 6,
   "id": "81d69481",
   "metadata": {
    "ExecuteTime": {
     "end_time": "2022-04-14T23:22:08.875075Z",
     "start_time": "2022-04-14T23:22:08.846861Z"
    },
    "scrolled": false
   },
   "outputs": [],
   "source": [
    "df = pd.DataFrame.from_dict(probing_res)\n",
    "\n",
    "df = pd.DataFrame(np.vstack((\n",
    "    list(zip(df.shape[0] * [\"Layer 1\"], df[\"params.relu1\"])),\n",
    "    list(zip(df.shape[0] * [\"Layer 2\"], df[\"params.relu2\"])),\n",
    ")), columns=[\"Layer\", \"Score\"])\n",
    "\n",
    "df[\"Score\"] = df[\"Score\"].astype(float)\n",
    "\n",
    "sns.set_theme(context=\"notebook\", style=\"whitegrid\", font_scale=1.5, palette=\"colorblind\")\n",
    "fig, ax = plt.subplots(1, figsize=(10, 10))\n",
    "sns.lineplot(x=df.index % (df.shape[0]//2), y=\"Score\", hue=\"Layer\", data=df, ax=ax);"
   ]
  },
  {
   "cell_type": "markdown",
   "id": "e365abeb",
   "metadata": {},
   "source": [
    "## Test with BERT"
   ]
  },
  {
   "cell_type": "code",
   "execution_count": 9,
   "id": "2d9706ee",
   "metadata": {
    "ExecuteTime": {
     "end_time": "2022-04-15T00:24:01.479918Z",
     "start_time": "2022-04-15T00:24:01.272572Z"
    }
   },
   "outputs": [
    {
     "data": {
      "text/plain": [
       "BertForTokenClassification(\n",
       "  (bert): BertModel(\n",
       "    (embeddings): BertEmbeddings(\n",
       "      (word_embeddings): Embedding(6000, 768, padding_idx=0)\n",
       "      (position_embeddings): Embedding(1024, 768)\n",
       "      (token_type_embeddings): Embedding(2, 768)\n",
       "      (LayerNorm): LayerNorm((768,), eps=1e-12, elementwise_affine=True)\n",
       "      (dropout): Dropout(p=0.1, inplace=False)\n",
       "    )\n",
       "    (encoder): BertEncoder(\n",
       "      (layer): ModuleList(\n",
       "        (0): BertLayer(\n",
       "          (attention): BertAttention(\n",
       "            (self): BertSelfAttention(\n",
       "              (query): Linear(in_features=768, out_features=768, bias=True)\n",
       "              (key): Linear(in_features=768, out_features=768, bias=True)\n",
       "              (value): Linear(in_features=768, out_features=768, bias=True)\n",
       "              (dropout): Dropout(p=0.1, inplace=False)\n",
       "            )\n",
       "            (output): BertSelfOutput(\n",
       "              (dense): Linear(in_features=768, out_features=768, bias=True)\n",
       "              (LayerNorm): LayerNorm((768,), eps=1e-12, elementwise_affine=True)\n",
       "              (dropout): Dropout(p=0.1, inplace=False)\n",
       "            )\n",
       "          )\n",
       "          (intermediate): BertIntermediate(\n",
       "            (dense): Linear(in_features=768, out_features=3072, bias=True)\n",
       "            (intermediate_act_fn): GELUActivation()\n",
       "          )\n",
       "          (output): BertOutput(\n",
       "            (dense): Linear(in_features=3072, out_features=768, bias=True)\n",
       "            (LayerNorm): LayerNorm((768,), eps=1e-12, elementwise_affine=True)\n",
       "            (dropout): Dropout(p=0.1, inplace=False)\n",
       "          )\n",
       "        )\n",
       "        (1): BertLayer(\n",
       "          (attention): BertAttention(\n",
       "            (self): BertSelfAttention(\n",
       "              (query): Linear(in_features=768, out_features=768, bias=True)\n",
       "              (key): Linear(in_features=768, out_features=768, bias=True)\n",
       "              (value): Linear(in_features=768, out_features=768, bias=True)\n",
       "              (dropout): Dropout(p=0.1, inplace=False)\n",
       "            )\n",
       "            (output): BertSelfOutput(\n",
       "              (dense): Linear(in_features=768, out_features=768, bias=True)\n",
       "              (LayerNorm): LayerNorm((768,), eps=1e-12, elementwise_affine=True)\n",
       "              (dropout): Dropout(p=0.1, inplace=False)\n",
       "            )\n",
       "          )\n",
       "          (intermediate): BertIntermediate(\n",
       "            (dense): Linear(in_features=768, out_features=3072, bias=True)\n",
       "            (intermediate_act_fn): GELUActivation()\n",
       "          )\n",
       "          (output): BertOutput(\n",
       "            (dense): Linear(in_features=3072, out_features=768, bias=True)\n",
       "            (LayerNorm): LayerNorm((768,), eps=1e-12, elementwise_affine=True)\n",
       "            (dropout): Dropout(p=0.1, inplace=False)\n",
       "          )\n",
       "        )\n",
       "      )\n",
       "    )\n",
       "  )\n",
       "  (dropout): Dropout(p=0.1, inplace=False)\n",
       "  (classifier): Linear(in_features=768, out_features=4, bias=True)\n",
       ")"
      ]
     },
     "execution_count": 9,
     "metadata": {},
     "output_type": "execute_result"
    }
   ],
   "source": [
    "import transformers\n",
    "\n",
    "transformer_model = transformers.BertForTokenClassification.from_pretrained(\n",
    "    \"../../segmentador/pretrained_segmenter_model/2_6000_layer_model/\"\n",
    ")\n",
    "\n",
    "transformer_model"
   ]
  },
  {
   "cell_type": "code",
   "execution_count": 1,
   "id": "87af9198",
   "metadata": {
    "ExecuteTime": {
     "end_time": "2022-04-15T00:23:02.671008Z",
     "start_time": "2022-04-15T00:23:01.132812Z"
    }
   },
   "outputs": [
    {
     "name": "stderr",
     "output_type": "stream",
     "text": [
      "/media/nvme/prober/venvs/py3.9.10/lib/python3.9/site-packages/tqdm/auto.py:22: TqdmWarning: IProgress not found. Please update jupyter and ipywidgets. See https://ipywidgets.readthedocs.io/en/stable/user_install.html\n",
      "  from .autonotebook import tqdm as notebook_tqdm\n",
      "100%|█████████████████████████████████████████████████████████████████████████████████████████████████████████████████████████████████████████████████████| 718/718 [00:00<00:00, 1341.72ex/s]\n"
     ]
    },
    {
     "data": {
      "text/plain": [
       "Dataset({\n",
       "    features: ['labels', 'input_ids', 'token_type_ids', 'attention_mask'],\n",
       "    num_rows: 718\n",
       "})"
      ]
     },
     "execution_count": 1,
     "metadata": {},
     "output_type": "execute_result"
    }
   ],
   "source": [
    "import datasets\n",
    "\n",
    "data = datasets.Dataset.load_from_disk(\n",
    "    \"../../segmentador/data/df_tokenized_split_0_120000_6000/eval/\"\n",
    ").shard(num_shards=20, index=0)\n",
    "\n",
    "def fn_pad(item):\n",
    "    new_item = {}\n",
    "    for k, v in item.items():\n",
    "        if k != \"labels\":\n",
    "            new_item[k] = v + (1024 - len(v)) * [0]\n",
    "\n",
    "    total_segments = sum(lab == 1 for lab in item[\"labels\"])\n",
    "    \n",
    "    if total_segments > 20:\n",
    "        new_label = 0\n",
    "    elif 20 >= total_segments > 10:\n",
    "        new_label = 1\n",
    "    else:\n",
    "        new_label = 2\n",
    "    \n",
    "    new_item[\"labels\"] = new_label\n",
    "            \n",
    "    return new_item\n",
    "\n",
    "num_cls = 3\n",
    "\n",
    "data = data.map(fn_pad)\n",
    "data.set_format(\"torch\")\n",
    "data"
   ]
  },
  {
   "cell_type": "code",
   "execution_count": 5,
   "id": "2a673d1e",
   "metadata": {
    "ExecuteTime": {
     "end_time": "2022-04-15T00:23:23.181083Z",
     "start_time": "2022-04-15T00:23:23.160157Z"
    }
   },
   "outputs": [],
   "source": [
    "class ProbingModel(torch.nn.Module):\n",
    "    def __init__(self, input_dim: int):\n",
    "        super().__init__()\n",
    "        self.params = torch.nn.Sequential(\n",
    "            torch.nn.Linear(input_dim, 128),\n",
    "            torch.nn.ReLU(inplace=True),\n",
    "            torch.nn.Linear(128, num_cls),\n",
    "        )\n",
    "    \n",
    "    def forward(self, X):\n",
    "        out = X\n",
    "        out, _ = out.max(axis=1)\n",
    "        out = self.params(out)\n",
    "        return out"
   ]
  },
  {
   "cell_type": "code",
   "execution_count": 6,
   "id": "dad3f749",
   "metadata": {
    "ExecuteTime": {
     "end_time": "2022-04-15T00:23:25.148929Z",
     "start_time": "2022-04-15T00:23:25.131101Z"
    }
   },
   "outputs": [],
   "source": [
    "probing_dataloader = torch.utils.data.DataLoader(\n",
    "    data,\n",
    "    batch_size=16,\n",
    "    shuffle=True,\n",
    ")"
   ]
  },
  {
   "cell_type": "code",
   "execution_count": 16,
   "id": "c73b28b8",
   "metadata": {
    "ExecuteTime": {
     "end_time": "2022-04-15T00:30:28.223420Z",
     "start_time": "2022-04-15T00:30:28.198203Z"
    }
   },
   "outputs": [
    {
     "data": {
      "text/plain": [
       "ProberPack:\n",
       "(a): Base model: BertForTokenClassification(\n",
       "  (bert): BertModel(\n",
       "    (embeddings): BertEmbeddings(\n",
       "      (word_embeddings): Embedding(6000, 768, padding_idx=0)\n",
       "      (position_embeddings): Embedding(1024, 768)\n",
       "      (token_type_embeddings): Embedding(2, 768)\n",
       "      (LayerNorm): LayerNorm((768,), eps=1e-12, elementwise_affine=True)\n",
       "      (dropout): Dropout(p=0.1, inplace=False)\n",
       "    )\n",
       "    (encoder): BertEncoder(\n",
       "      (layer): ModuleList(\n",
       "        (0): BertLayer(\n",
       "          (attention): BertAttention(\n",
       "            (self): BertSelfAttention(\n",
       "              (query): Linear(in_features=768, out_features=768, bias=True)\n",
       "              (key): Linear(in_features=768, out_features=768, bias=True)\n",
       "              (value): Linear(in_features=768, out_features=768, bias=True)\n",
       "              (dropout): Dropout(p=0.1, inplace=False)\n",
       "            )\n",
       "            (output): BertSelfOutput(\n",
       "              (dense): Linear(in_features=768, out_features=768, bias=True)\n",
       "              (LayerNorm): LayerNorm((768,), eps=1e-12, elementwise_affine=True)\n",
       "              (dropout): Dropout(p=0.1, inplace=False)\n",
       "            )\n",
       "          )\n",
       "          (intermediate): BertIntermediate(\n",
       "            (dense): Linear(in_features=768, out_features=3072, bias=True)\n",
       "            (intermediate_act_fn): GELUActivation()\n",
       "          )\n",
       "          (output): BertOutput(\n",
       "            (dense): Linear(in_features=3072, out_features=768, bias=True)\n",
       "            (LayerNorm): LayerNorm((768,), eps=1e-12, elementwise_affine=True)\n",
       "            (dropout): Dropout(p=0.1, inplace=False)\n",
       "          )\n",
       "        )\n",
       "        (1): BertLayer(\n",
       "          (attention): BertAttention(\n",
       "            (self): BertSelfAttention(\n",
       "              (query): Linear(in_features=768, out_features=768, bias=True)\n",
       "              (key): Linear(in_features=768, out_features=768, bias=True)\n",
       "              (value): Linear(in_features=768, out_features=768, bias=True)\n",
       "              (dropout): Dropout(p=0.1, inplace=False)\n",
       "            )\n",
       "            (output): BertSelfOutput(\n",
       "              (dense): Linear(in_features=768, out_features=768, bias=True)\n",
       "              (LayerNorm): LayerNorm((768,), eps=1e-12, elementwise_affine=True)\n",
       "              (dropout): Dropout(p=0.1, inplace=False)\n",
       "            )\n",
       "          )\n",
       "          (intermediate): BertIntermediate(\n",
       "            (dense): Linear(in_features=768, out_features=3072, bias=True)\n",
       "            (intermediate_act_fn): GELUActivation()\n",
       "          )\n",
       "          (output): BertOutput(\n",
       "            (dense): Linear(in_features=3072, out_features=768, bias=True)\n",
       "            (LayerNorm): LayerNorm((768,), eps=1e-12, elementwise_affine=True)\n",
       "            (dropout): Dropout(p=0.1, inplace=False)\n",
       "          )\n",
       "        )\n",
       "      )\n",
       "    )\n",
       "  )\n",
       "  (dropout): Dropout(p=0.1, inplace=False)\n",
       "  (classifier): Linear(in_features=768, out_features=4, bias=True)\n",
       ")\n",
       "(b): Task name: debug_task\n",
       "(c): Probing dataset size: 45 batches of size (at most) 16.\n",
       "(d): Probed modules (2 in total):\n",
       "  (0): bert.encoder.layer.0.output.dense\n",
       "  (1): bert.encoder.layer.1.output.dense"
      ]
     },
     "execution_count": 16,
     "metadata": {},
     "output_type": "execute_result"
    }
   ],
   "source": [
    "import functools\n",
    "\n",
    "loss_fn = torch.nn.CrossEntropyLoss()\n",
    "\n",
    "task = curiosidade.TaskCustom(\n",
    "    probing_dataloader=probing_dataloader,\n",
    "    loss_fn=loss_fn,\n",
    "    task_name=\"debug_task\",\n",
    ")\n",
    "\n",
    "prober = curiosidade.core.attach_probers(\n",
    "    base_model=transformer_model,\n",
    "    probing_model_fn=ProbingModel,\n",
    "    task=task,\n",
    "    optim_fn=functools.partial(torch.optim.Adam, lr=0.005),\n",
    "    layers_to_attach=\"bert.encoder.layer.\\d+.output.dense\",\n",
    "    device=\"cuda\",\n",
    ")\n",
    "\n",
    "prober"
   ]
  },
  {
   "cell_type": "code",
   "execution_count": 17,
   "id": "e7fddf8f",
   "metadata": {
    "ExecuteTime": {
     "end_time": "2022-04-15T00:32:59.407501Z",
     "start_time": "2022-04-15T00:30:38.471479Z"
    }
   },
   "outputs": [
    {
     "name": "stderr",
     "output_type": "stream",
     "text": [
      "100%|█████████████████████████████████████████████████████████████████████████████████████████████████████████████████████████████████████████████████████████| 45/45 [00:28<00:00,  1.60it/s]\n",
      "100%|█████████████████████████████████████████████████████████████████████████████████████████████████████████████████████████████████████████████████████████| 45/45 [00:28<00:00,  1.60it/s]\n",
      "100%|█████████████████████████████████████████████████████████████████████████████████████████████████████████████████████████████████████████████████████████| 45/45 [00:28<00:00,  1.60it/s]\n",
      "100%|█████████████████████████████████████████████████████████████████████████████████████████████████████████████████████████████████████████████████████████| 45/45 [00:28<00:00,  1.60it/s]\n",
      "100%|█████████████████████████████████████████████████████████████████████████████████████████████████████████████████████████████████████████████████████████| 45/45 [00:28<00:00,  1.60it/s]\n"
     ]
    }
   ],
   "source": [
    "probing_res = prober.train(num_epochs=5, show_progress_bar=True)"
   ]
  },
  {
   "cell_type": "code",
   "execution_count": 18,
   "id": "bc9406c4",
   "metadata": {
    "ExecuteTime": {
     "end_time": "2022-04-15T00:32:59.618246Z",
     "start_time": "2022-04-15T00:32:59.408927Z"
    }
   },
   "outputs": [
    {
     "data": {
      "image/png": "[encoded data removed]",
      "text/plain": [
       "<Figure size 720x720 with 1 Axes>"
      ]
     },
     "metadata": {},
     "output_type": "display_data"
    }
   ],
   "source": [
    "df = pd.DataFrame.from_dict(probing_res)\n",
    "\n",
    "df = pd.DataFrame(np.vstack((\n",
    "    list(zip(df.shape[0] * [\"Block 1\"], df.iloc[:, 0])),\n",
    "    list(zip(df.shape[0] * [\"Block 2\"], df.iloc[:, 1])),\n",
    ")), columns=[\"Block\", \"Score\"])\n",
    "\n",
    "df[\"Score\"] = df[\"Score\"].astype(float)\n",
    "\n",
    "sns.set_theme(context=\"notebook\", style=\"whitegrid\", font_scale=1.5, palette=\"colorblind\")\n",
    "fig, ax = plt.subplots(1, figsize=(10, 10))\n",
    "sns.lineplot(x=df.index % (df.shape[0]//2), y=\"Score\", hue=\"Block\", data=df, ax=ax);"
   ]
  }
 ],
 "metadata": {
  "kernelspec": {
   "display_name": "Python 3",
   "language": "python",
   "name": "python3"
  },
  "language_info": {
   "codemirror_mode": {
    "name": "ipython",
    "version": 3
   },
   "file_extension": ".py",
   "mimetype": "text/x-python",
   "name": "python",
   "nbconvert_exporter": "python",
   "pygments_lexer": "ipython3",
   "version": "3.9.10"
  },
  "latex_envs": {
   "LaTeX_envs_menu_present": true,
   "autoclose": false,
   "autocomplete": true,
   "bibliofile": "biblio.bib",
   "cite_by": "apalike",
   "current_citInitial": 1,
   "eqLabelWithNumbers": true,
   "eqNumInitial": 1,
   "hotkeys": {
    "equation": "Ctrl-E",
    "itemize": "Ctrl-I"
   },
   "labels_anchors": false,
   "latex_user_defs": false,
   "report_style_numbering": false,
   "user_envs_cfg": false
  },
  "toc": {
   "base_numbering": 1,
   "nav_menu": {},
   "number_sections": true,
   "sideBar": true,
   "skip_h1_title": false,
   "title_cell": "Table of Contents",
   "title_sidebar": "Contents",
   "toc_cell": false,
   "toc_position": {},
   "toc_section_display": true,
   "toc_window_display": false
  }
 },
 "nbformat": 4,
 "nbformat_minor": 5
}
