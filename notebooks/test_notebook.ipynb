{
 "cells": [
  {
   "cell_type": "code",
   "execution_count": 1,
   "id": "35db7bbd",
   "metadata": {
    "ExecuteTime": {
     "end_time": "2022-04-18T04:28:06.083751Z",
     "start_time": "2022-04-18T04:28:04.581427Z"
    },
    "scrolled": false
   },
   "outputs": [
    {
     "name": "stderr",
     "output_type": "stream",
     "text": [
      "/media/nvme/prober/venvs/py3.9.10/lib/python3.9/site-packages/tqdm/auto.py:22: TqdmWarning: IProgress not found. Please update jupyter and ipywidgets. See https://ipywidgets.readthedocs.io/en/stable/user_install.html\n",
      "  from .autonotebook import tqdm as notebook_tqdm\n"
     ]
    }
   ],
   "source": [
    "import collections\n",
    "\n",
    "import matplotlib.pyplot as plt\n",
    "import seaborn as sns\n",
    "import pandas as pd\n",
    "import torch\n",
    "import numpy as np\n",
    "\n",
    "import curiosidade\n",
    "\n",
    "\n",
    "%load_ext autoreload\n",
    "%autoreload 2"
   ]
  },
  {
   "cell_type": "markdown",
   "id": "c6b77132",
   "metadata": {},
   "source": [
    "## Torch setup"
   ]
  },
  {
   "cell_type": "code",
   "execution_count": 2,
   "id": "97eb479b",
   "metadata": {
    "ExecuteTime": {
     "end_time": "2022-04-18T04:28:06.389713Z",
     "start_time": "2022-04-18T04:28:06.335173Z"
    }
   },
   "outputs": [
    {
     "data": {
      "text/plain": [
       "(torch.Size([400, 4]), torch.Size([400]), 2)"
      ]
     },
     "execution_count": 2,
     "metadata": {},
     "output_type": "execute_result"
    }
   ],
   "source": [
    "import numpy as np\n",
    "import torch\n",
    "\n",
    "loss_fn = torch.nn.CrossEntropyLoss()\n",
    "\n",
    "rnd_state = np.random.RandomState(8)\n",
    "torch.random.manual_seed(32)\n",
    "\n",
    "n, m = 400, 4\n",
    "X = torch.from_numpy(rnd_state.randn(n, m)).float()\n",
    "y = X.mean(axis=1).round().abs().long()\n",
    "\n",
    "train_size = int(0.9 * n)\n",
    "eval_size = int(0.05 * n)\n",
    "test_size = n - train_size - eval_size\n",
    "\n",
    "df = torch.utils.data.TensorDataset(X, y)\n",
    "df_train, df_eval, df_test = torch.utils.data.random_split(\n",
    "    df, lengths=[train_size, eval_size, test_size],\n",
    ")\n",
    "\n",
    "probing_dataloader_train = torch.utils.data.DataLoader(\n",
    "    df_train,\n",
    "    batch_size=10,\n",
    "    shuffle=True,\n",
    ")\n",
    "\n",
    "probing_dataloader_eval = torch.utils.data.DataLoader(\n",
    "    df_eval,\n",
    "    batch_size=10,\n",
    "    shuffle=False,\n",
    ")\n",
    "\n",
    "probing_dataloader_test = torch.utils.data.DataLoader(\n",
    "    df_test,\n",
    "    batch_size=10,\n",
    "    shuffle=False,\n",
    ")\n",
    "\n",
    "num_cls = y.unique().numel()\n",
    "X.shape, y.shape, num_cls"
   ]
  },
  {
   "cell_type": "code",
   "execution_count": 3,
   "id": "1b13761d",
   "metadata": {
    "ExecuteTime": {
     "end_time": "2022-04-18T04:28:08.461493Z",
     "start_time": "2022-04-18T04:28:08.444035Z"
    }
   },
   "outputs": [],
   "source": [
    "# class ProbingModel(torch.nn.Module):\n",
    "#     def __init__(self, input_dim: int, output_dim: int):\n",
    "#         super().__init__()\n",
    "#         self.params = torch.nn.Sequential(\n",
    "#             torch.nn.Linear(input_dim, 20, bias=True),\n",
    "#             torch.nn.ReLU(inplace=True),\n",
    "#             torch.nn.Linear(20, output_dim, bias=True),\n",
    "#         )\n",
    "    \n",
    "#     def forward(self, X):\n",
    "#         return self.params(X)\n",
    "\n",
    "\n",
    "ProbingModel = curiosidade.probers.utils.get_probing_model_feedforward(hidden_layer_dims=[20])"
   ]
  },
  {
   "cell_type": "code",
   "execution_count": 4,
   "id": "6ffdffbd",
   "metadata": {
    "ExecuteTime": {
     "end_time": "2022-04-18T04:28:12.428504Z",
     "start_time": "2022-04-18T04:28:11.217839Z"
    }
   },
   "outputs": [
    {
     "name": "stdout",
     "output_type": "stream",
     "text": [
      "mov_avg_loss=0.534\n",
      "mov_avg_loss=0.257\n",
      "mov_avg_loss=0.148\n",
      "mov_avg_loss=0.125\n",
      "mov_avg_loss=0.085\n",
      "mov_avg_loss=0.118\n",
      "mov_avg_loss=0.089\n",
      "mov_avg_loss=0.062\n",
      "mov_avg_loss=0.072\n",
      "mov_avg_loss=0.084\n",
      "mov_avg_loss=0.127\n",
      "mov_avg_loss=0.088\n",
      "mov_avg_loss=0.052\n",
      "mov_avg_loss=0.057\n",
      "mov_avg_loss=0.051\n",
      "mov_avg_loss=0.039\n",
      "mov_avg_loss=0.043\n",
      "mov_avg_loss=0.055\n",
      "mov_avg_loss=0.032\n",
      "mov_avg_loss=0.063\n",
      "mov_avg_loss=0.036\n",
      "mov_avg_loss=0.040\n",
      "mov_avg_loss=0.031\n",
      "mov_avg_loss=0.062\n",
      "mov_avg_loss=0.044\n",
      "mov_avg_loss=0.051\n",
      "mov_avg_loss=0.032\n",
      "mov_avg_loss=0.042\n",
      "mov_avg_loss=0.024\n",
      "mov_avg_loss=0.029\n",
      "mov_avg_loss=0.088\n",
      "mov_avg_loss=0.055\n",
      "mov_avg_loss=0.039\n",
      "mov_avg_loss=0.040\n",
      "mov_avg_loss=0.063\n",
      "mov_avg_loss=0.036\n",
      "mov_avg_loss=0.027\n",
      "mov_avg_loss=0.035\n",
      "mov_avg_loss=0.016\n",
      "mov_avg_loss=0.037\n",
      "mov_avg_loss=0.040\n",
      "mov_avg_loss=0.029\n",
      "mov_avg_loss=0.079\n",
      "mov_avg_loss=0.087\n",
      "mov_avg_loss=0.046\n",
      "mov_avg_loss=0.022\n",
      "mov_avg_loss=0.016\n",
      "mov_avg_loss=0.020\n",
      "mov_avg_loss=0.059\n",
      "mov_avg_loss=0.020\n"
     ]
    }
   ],
   "source": [
    "import collections\n",
    "import torch\n",
    "import torch.nn\n",
    "\n",
    "\n",
    "class BaseModel(torch.nn.Module):\n",
    "    def __init__(self):\n",
    "        super().__init__()\n",
    "        \n",
    "        self.params = torch.nn.Sequential(\n",
    "            collections.OrderedDict((\n",
    "                (\"lin1\", torch.nn.Linear(X.shape[1], 15, bias=True)),\n",
    "                (\"relu1\", torch.nn.ReLU(inplace=True)),\n",
    "                (\"lin2\", torch.nn.Linear(15, 25, bias=True)),\n",
    "                (\"relu2\", torch.nn.ReLU(inplace=True)),\n",
    "                (\"lin3\", torch.nn.Linear(25, num_cls)),\n",
    "            )),\n",
    "        )\n",
    "    \n",
    "    def forward(self, X):\n",
    "        return self.params(X)\n",
    "\n",
    "\n",
    "base_model = BaseModel()\n",
    "optim_base = torch.optim.Adam(base_model.parameters(), lr=0.01)\n",
    "\n",
    "beta = 0.9\n",
    "mov_avg_loss = 0.0\n",
    "\n",
    "base_model = base_model.train()\n",
    "for _ in range(50):\n",
    "    for X_batch, y_batch in probing_dataloader_train:\n",
    "        optim_base.zero_grad()\n",
    "        y_logits = base_model(X_batch)\n",
    "        loss = loss_fn(input=y_logits, target=y_batch)\n",
    "        loss.backward()\n",
    "        optim_base.step()\n",
    "        mov_avg_loss = beta * mov_avg_loss + (1.0 - beta) * float(loss.cpu().detach().item())\n",
    "    \n",
    "    print(f\"{mov_avg_loss=:.3f}\")"
   ]
  },
  {
   "cell_type": "markdown",
   "id": "9bbbd8b8",
   "metadata": {},
   "source": [
    "## Curiosidade setup"
   ]
  },
  {
   "cell_type": "code",
   "execution_count": 29,
   "id": "1e329bb0",
   "metadata": {
    "ExecuteTime": {
     "end_time": "2022-04-18T04:37:45.674828Z",
     "start_time": "2022-04-18T04:37:45.650405Z"
    }
   },
   "outputs": [
    {
     "name": "stdout",
     "output_type": "stream",
     "text": [
      "prober_container = ProbingModelContainer:\n",
      "(a): Base model: BaseModel(\n",
      "  (params): Sequential(\n",
      "    (lin1): Linear(in_features=4, out_features=15, bias=True)\n",
      "    (relu1): ReLU(inplace=True)\n",
      "    (lin2): Linear(in_features=15, out_features=25, bias=True)\n",
      "    (relu2): ReLU(inplace=True)\n",
      "    (lin3): Linear(in_features=25, out_features=2, bias=True)\n",
      "  )\n",
      ")\n",
      "(b): Task name: debug_task\n",
      "(c): Probing dataset(s):\n",
      "  (train):   36 batches of size (at most) 10.\n",
      "  (eval) :    2 batches of size (at most) 10.\n",
      "  (test) :    2 batches of size (at most) 10.\n",
      "(d): Probed module(s) (2 in total):\n",
      "  (0): params.relu1\n",
      "  (1): params.relu2\n",
      "(e): No pruned modules.\n",
      "prober_container.probed_modules = ('params.relu1', 'params.relu2')\n"
     ]
    }
   ],
   "source": [
    "import torchmetrics\n",
    "\n",
    "\n",
    "def metrics_fn(logits: torch.Tensor, truth_labels: torch.Tensor) -> dict[str, float]:\n",
    "    accuracy = torchmetrics.Accuracy(num_classes=2)(logits, truth_labels)\n",
    "    f1 = torchmetrics.F1Score(num_classes=2)(logits, truth_labels)\n",
    "    return {\"accuracy\": accuracy, \"f1\": f1}\n",
    "\n",
    "\n",
    "task = curiosidade.ProbingTaskCustom(\n",
    "    probing_dataloader_train=probing_dataloader_train,\n",
    "    probing_dataloader_eval=probing_dataloader_eval,\n",
    "    probing_dataloader_test=probing_dataloader_test,\n",
    "    loss_fn=loss_fn,\n",
    "    task_name=\"debug_task\",\n",
    "    task_type=\"classification\",\n",
    "    output_dim=num_cls,\n",
    "    metrics_fn=metrics_fn,\n",
    ")\n",
    "\n",
    "import functools\n",
    "\n",
    "probing_factory = curiosidade.ProbingModelFactory(\n",
    "    probing_model_fn=ProbingModel,\n",
    "    optim_fn=functools.partial(torch.optim.Adam, lr=0.001),\n",
    "    task=task,\n",
    ")\n",
    "\n",
    "prober_container = curiosidade.attach_probers(\n",
    "    base_model=base_model,\n",
    "    probing_model_factory=probing_factory,\n",
    "    modules_to_attach=\"relu\\d+\",\n",
    "    random_seed=16,\n",
    "    prune_unrelated_modules=None,\n",
    ")\n",
    "\n",
    "print(f\"{prober_container = }\")\n",
    "print(f\"{prober_container.probed_modules = }\")"
   ]
  },
  {
   "cell_type": "code",
   "execution_count": 30,
   "id": "17ad0f31",
   "metadata": {
    "ExecuteTime": {
     "end_time": "2022-04-18T04:37:55.831130Z",
     "start_time": "2022-04-18T04:37:51.507286Z"
    }
   },
   "outputs": [],
   "source": [
    "probing_results = prober_container.train(num_epochs=20)"
   ]
  },
  {
   "cell_type": "code",
   "execution_count": 7,
   "id": "82e5569a",
   "metadata": {
    "ExecuteTime": {
     "end_time": "2022-04-18T04:26:44.978186Z",
     "start_time": "2022-04-18T04:26:44.956421Z"
    }
   },
   "outputs": [
    {
     "data": {
      "text/plain": [
       "ProbingResults(\n",
       "    train = MetricPack with 4320 values stored in:\n",
       "      (0, 'loss', 'params.relu1', 1): 0.7079402208328247\n",
       "      (0, 'accuracy', 'params.relu1', 1): 0.5\n",
       "      (0, 'f1', 'params.relu1', 1): 0.5\n",
       "      (0, 'loss', 'params.relu2', 1): 0.551925778388977\n",
       "      ...,\n",
       "    eval  = MetricPack with 240 values stored in:\n",
       "      (0, 'loss', 'params.relu1', 1): 0.7371053099632263\n",
       "      (0, 'accuracy', 'params.relu1', 1): 0.10000000149011612\n",
       "      (0, 'f1', 'params.relu1', 1): 0.10000000894069672\n",
       "      (0, 'loss', 'params.relu2', 1): 0.4280572831630707\n",
       "      ...,\n",
       "    test  = MetricPack with 12 values stored in:\n",
       "      (-1, 'loss', 'params.relu1', 1): 0.16445784270763397\n",
       "      (-1, 'accuracy', 'params.relu1', 1): 0.8999999761581421\n",
       "      (-1, 'f1', 'params.relu1', 1): 0.8999999761581421\n",
       "      (-1, 'loss', 'params.relu2', 1): 0.22506138682365417\n",
       "      ...,\n",
       ")"
      ]
     },
     "execution_count": 7,
     "metadata": {},
     "output_type": "execute_result"
    }
   ],
   "source": [
    "probing_results"
   ]
  },
  {
   "cell_type": "code",
   "execution_count": 8,
   "id": "81d69481",
   "metadata": {
    "ExecuteTime": {
     "end_time": "2022-04-18T04:26:45.409409Z",
     "start_time": "2022-04-18T04:26:44.980342Z"
    },
    "scrolled": false
   },
   "outputs": [
    {
     "name": "stdout",
     "output_type": "stream",
     "text": [
      "    epoch        module metric_name    metric          \n",
      "                                         mean       std\n",
      "0       0  params.relu1    accuracy  0.330556  0.158239\n",
      "1       0  params.relu1          f1  0.330556  0.158239\n",
      "2       0  params.relu1        loss  0.732363  0.050406\n",
      "3       0  params.relu2    accuracy  0.900000  0.147358\n",
      "4       0  params.relu2          f1  0.900000  0.147358\n",
      "..    ...           ...         ...       ...       ...\n",
      "115    19  params.relu1          f1  0.980556  0.046718\n",
      "116    19  params.relu1        loss  0.071176  0.050137\n",
      "117    19  params.relu2    accuracy  0.997222  0.016667\n",
      "118    19  params.relu2          f1  0.997222  0.016667\n",
      "119    19  params.relu2        loss  0.014359  0.021337\n",
      "\n",
      "[120 rows x 5 columns]\n"
     ]
    },
    {
     "data": {
      "image/png": "[encoded data removed]",
      "text/plain": [
       "<Figure size 864x576 with 2 Axes>"
      ]
     },
     "metadata": {},
     "output_type": "display_data"
    }
   ],
   "source": [
    "def create_plot(data, ax, split):\n",
    "    df = data.to_pandas()\n",
    "    df = df.groupby([\"epoch\", \"module\", \"metric_name\"]).agg({\"metric\": np.mean}).reset_index()\n",
    "    df = df.loc[df[\"metric_name\"] == \"accuracy\", :]\n",
    "    sns.lineplot(x=\"epoch\", y=\"metric\", hue=\"module\", data=df, ax=ax);\n",
    "\n",
    "    \n",
    "sns.set_theme(\n",
    "    context=\"notebook\",\n",
    "    style=\"whitegrid\",\n",
    "    font_scale=1.5,\n",
    "    palette=\"colorblind\",\n",
    ")\n",
    "\n",
    "fig, (ax1, ax2) = plt.subplots(2, figsize=(12, 8))\n",
    "\n",
    "create_plot(probing_results.train, ax=ax1, split=\"train\")\n",
    "create_plot(probing_results.eval, ax=ax2, split=\"eval\")\n",
    "\n",
    "print(probing_results.train.to_pandas([\"epoch\", \"module\", \"metric_name\"], aggregate_fn=[np.mean, np.std]))\n",
    "\n",
    "plt.tight_layout()"
   ]
  },
  {
   "cell_type": "markdown",
   "id": "e365abeb",
   "metadata": {},
   "source": [
    "## Test with BERT"
   ]
  },
  {
   "cell_type": "code",
   "execution_count": 31,
   "id": "2d9706ee",
   "metadata": {
    "ExecuteTime": {
     "end_time": "2022-04-18T04:38:08.084988Z",
     "start_time": "2022-04-18T04:38:07.917473Z"
    }
   },
   "outputs": [],
   "source": [
    "import transformers\n",
    "\n",
    "transformer_model = transformers.BertForTokenClassification.from_pretrained(\n",
    "    \"../../segmentador/pretrained_segmenter_model/2_6000_layer_model/\"\n",
    ")"
   ]
  },
  {
   "cell_type": "code",
   "execution_count": 32,
   "id": "87af9198",
   "metadata": {
    "ExecuteTime": {
     "end_time": "2022-04-18T04:38:09.750203Z",
     "start_time": "2022-04-18T04:38:09.587998Z"
    }
   },
   "outputs": [
    {
     "name": "stderr",
     "output_type": "stream",
     "text": [
      "Loading cached processed dataset at ../../segmentador/data/df_tokenized_split_0_120000_6000/eval/cache-c9502c531385ac30.arrow\n"
     ]
    },
    {
     "data": {
      "text/plain": [
       "(Dataset({\n",
       "     features: ['labels', 'input_ids', 'token_type_ids', 'attention_mask'],\n",
       "     num_rows: 862\n",
       " }),\n",
       " Dataset({\n",
       "     features: ['labels', 'input_ids', 'token_type_ids', 'attention_mask'],\n",
       "     num_rows: 48\n",
       " }),\n",
       " Dataset({\n",
       "     features: ['labels', 'input_ids', 'token_type_ids', 'attention_mask'],\n",
       "     num_rows: 48\n",
       " }))"
      ]
     },
     "execution_count": 32,
     "metadata": {},
     "output_type": "execute_result"
    }
   ],
   "source": [
    "import datasets\n",
    "\n",
    "data = datasets.Dataset.load_from_disk(\n",
    "    \"../../segmentador/data/df_tokenized_split_0_120000_6000/eval/\"\n",
    ").shard(num_shards=15, index=0)\n",
    "\n",
    "def fn_pad(item):\n",
    "    new_item = {}\n",
    "    for k, v in item.items():\n",
    "        if k != \"labels\":\n",
    "            if len(v) < 512:\n",
    "                new_item[k] = v + (512 - len(v)) * [0]\n",
    "            else:\n",
    "                new_item[k] = v[:512]\n",
    "            \n",
    "    total_segments = sum(lab == 1 for lab in item[\"labels\"])\n",
    "    \n",
    "    if total_segments > 20:\n",
    "        new_label = 0\n",
    "    elif 20 >= total_segments > 10:\n",
    "        new_label = 1\n",
    "    else:\n",
    "        new_label = 2\n",
    "    \n",
    "    new_item[\"labels\"] = new_label\n",
    "            \n",
    "    return new_item\n",
    "\n",
    "num_cls = 3\n",
    "\n",
    "data = data.map(fn_pad)\n",
    "data.set_format(\"torch\")\n",
    "df_train, aux = data.train_test_split(test_size=0.1, shuffle=True).values()\n",
    "df_eval, df_test = aux.train_test_split(test_size=0.5, shuffle=False).values()\n",
    "df_train, df_eval, df_test"
   ]
  },
  {
   "cell_type": "code",
   "execution_count": 11,
   "id": "2a673d1e",
   "metadata": {
    "ExecuteTime": {
     "end_time": "2022-04-18T04:26:45.775264Z",
     "start_time": "2022-04-18T04:26:45.757986Z"
    }
   },
   "outputs": [],
   "source": [
    "# class ProbingModel(torch.nn.Module):\n",
    "#     def __init__(self, input_dim: int, output_dim: int):\n",
    "#         super().__init__()\n",
    "#         self.params = torch.nn.Sequential(\n",
    "#             torch.nn.Linear(input_dim, 128),\n",
    "#             torch.nn.ReLU(inplace=True),\n",
    "#             torch.nn.Linear(128, output_dim),\n",
    "#         )\n",
    "    \n",
    "#     def forward(self, X):\n",
    "#         out = X\n",
    "#         out, _ = out.max(axis=1)\n",
    "#         out = self.params(out)\n",
    "#         return out"
   ]
  },
  {
   "cell_type": "code",
   "execution_count": 33,
   "id": "b56e3efe",
   "metadata": {
    "ExecuteTime": {
     "end_time": "2022-04-18T04:38:14.143605Z",
     "start_time": "2022-04-18T04:38:14.112526Z"
    }
   },
   "outputs": [],
   "source": [
    "ProbingModel = curiosidade.probers.utils.get_probing_model_for_sequences(hidden_layer_dims=[128])"
   ]
  },
  {
   "cell_type": "code",
   "execution_count": 34,
   "id": "dad3f749",
   "metadata": {
    "ExecuteTime": {
     "end_time": "2022-04-18T04:38:15.520746Z",
     "start_time": "2022-04-18T04:38:15.485169Z"
    }
   },
   "outputs": [],
   "source": [
    "import torch\n",
    "\n",
    "probing_dataloader_train = torch.utils.data.DataLoader(\n",
    "    df_train,\n",
    "    batch_size=4,\n",
    "    shuffle=True,\n",
    ")\n",
    "\n",
    "probing_dataloader_eval = torch.utils.data.DataLoader(\n",
    "    df_eval,\n",
    "    batch_size=8,\n",
    "    shuffle=False,\n",
    ")\n",
    "\n",
    "probing_dataloader_test = torch.utils.data.DataLoader(\n",
    "    df_test,\n",
    "    batch_size=8,\n",
    "    shuffle=False,\n",
    ")"
   ]
  },
  {
   "cell_type": "code",
   "execution_count": 41,
   "id": "c73b28b8",
   "metadata": {
    "ExecuteTime": {
     "end_time": "2022-04-18T04:41:05.019592Z",
     "start_time": "2022-04-18T04:41:04.988574Z"
    }
   },
   "outputs": [
    {
     "data": {
      "text/plain": [
       "ProbingModelContainer:\n",
       "(a): Base model: BertForTokenClassification(\n",
       "  (bert): BertModel(\n",
       "    (embeddings): BertEmbeddings(\n",
       "      (word_embeddings): Embedding(6000, 768, padding_idx=0)\n",
       "      (position_embeddings): Embedding(1024, 768)\n",
       "      (token_type_embeddings): Embedding(2, 768)\n",
       "      (LayerNorm): LayerNorm((768,), eps=1e-12, elementwise_affine=True)\n",
       "      (dropout): Dropout(p=0.1, inplace=False)\n",
       "    )\n",
       "    (encoder): BertEncoder(\n",
       "      (layer): ModuleList(\n",
       "        (0): BertLayer(\n",
       "          (attention): BertAttention(\n",
       "            (self): BertSelfAttention(\n",
       "              (query): Linear(in_features=768, out_features=768, bias=True)\n",
       "              (key): Linear(in_features=768, out_features=768, bias=True)\n",
       "              (value): Linear(in_features=768, out_features=768, bias=True)\n",
       "              (dropout): Dropout(p=0.1, inplace=False)\n",
       "            )\n",
       "            (output): BertSelfOutput(\n",
       "              (dense): Linear(in_features=768, out_features=768, bias=True)\n",
       "              (LayerNorm): LayerNorm((768,), eps=1e-12, elementwise_affine=True)\n",
       "              (dropout): Dropout(p=0.1, inplace=False)\n",
       "            )\n",
       "          )\n",
       "          (intermediate): BertIntermediate(\n",
       "            (dense): Linear(in_features=768, out_features=3072, bias=True)\n",
       "            (intermediate_act_fn): GELUActivation()\n",
       "          )\n",
       "          (output): BertOutput(\n",
       "            (dense): Linear(in_features=3072, out_features=768, bias=True)\n",
       "            (LayerNorm): LayerNorm((768,), eps=1e-12, elementwise_affine=True)\n",
       "            (dropout): Dropout(p=0.1, inplace=False)\n",
       "          )\n",
       "        )\n",
       "        (1): BertLayer(\n",
       "          (attention): BertAttention(\n",
       "            (self): BertSelfAttention(\n",
       "              (query): Linear(in_features=768, out_features=768, bias=True)\n",
       "              (key): Linear(in_features=768, out_features=768, bias=True)\n",
       "              (value): Linear(in_features=768, out_features=768, bias=True)\n",
       "              (dropout): Dropout(p=0.1, inplace=False)\n",
       "            )\n",
       "            (output): BertSelfOutput(\n",
       "              (dense): Linear(in_features=768, out_features=768, bias=True)\n",
       "              (LayerNorm): LayerNorm((768,), eps=1e-12, elementwise_affine=True)\n",
       "              (dropout): Dropout(p=0.1, inplace=False)\n",
       "            )\n",
       "          )\n",
       "          (intermediate): BertIntermediate(\n",
       "            (dense): Linear(in_features=768, out_features=3072, bias=True)\n",
       "            (intermediate_act_fn): GELUActivation()\n",
       "          )\n",
       "          (output): BertOutput(\n",
       "            (dense): Linear(in_features=3072, out_features=768, bias=True)\n",
       "            (LayerNorm): LayerNorm((768,), eps=1e-12, elementwise_affine=True)\n",
       "            (dropout): Dropout(p=0.1, inplace=False)\n",
       "          )\n",
       "        )\n",
       "      )\n",
       "    )\n",
       "  )\n",
       "  (dropout): Dropout(p=0.1, inplace=False)\n",
       "  (classifier): Linear(in_features=768, out_features=4, bias=True)\n",
       ")\n",
       "(b): Task name: debug_task_bert\n",
       "(c): Probing dataset(s):\n",
       "  (train):  216 batches of size (at most) 4.\n",
       "  (eval) :    6 batches of size (at most) 8.\n",
       "  (test) :    6 batches of size (at most) 8.\n",
       "(d): Probed module(s) (1 in total):\n",
       "  (0): bert.encoder.layer.0.output.dense\n",
       "(e): No pruned modules."
      ]
     },
     "execution_count": 41,
     "metadata": {},
     "output_type": "execute_result"
    }
   ],
   "source": [
    "import functools\n",
    "\n",
    "loss_fn = torch.nn.CrossEntropyLoss()\n",
    "\n",
    "def accuracy_fn(logits, target):\n",
    "    _, cls_ids = logits.max(axis=-1)\n",
    "    return {\"accuracy\": (cls_ids == target).float().mean().item()}\n",
    "\n",
    "task = curiosidade.ProbingTaskCustom(\n",
    "    probing_dataloader_train=probing_dataloader_train,\n",
    "    probing_dataloader_eval=probing_dataloader_eval,\n",
    "    probing_dataloader_test=probing_dataloader_test,\n",
    "    loss_fn=loss_fn,\n",
    "    task_name=\"debug_task_bert\",\n",
    "    output_dim=num_cls,\n",
    "    metrics_fn=accuracy_fn,\n",
    ")\n",
    "\n",
    "probing_factory = curiosidade.ProbingModelFactory(\n",
    "    task=task,\n",
    "    probing_model_fn=ProbingModel,\n",
    "    optim_fn=functools.partial(torch.optim.Adam, lr=0.005),\n",
    ")\n",
    "\n",
    "prober = curiosidade.core.attach_probers(\n",
    "    base_model=transformer_model,\n",
    "    probing_model_factory=probing_factory,\n",
    "    modules_to_attach=\"bert.encoder.layer.0.output.dense\",\n",
    "    device=\"cuda\",\n",
    "    prune_unrelated_modules=None,\n",
    ")\n",
    "\n",
    "prober"
   ]
  },
  {
   "cell_type": "code",
   "execution_count": 42,
   "id": "e7fddf8f",
   "metadata": {
    "ExecuteTime": {
     "end_time": "2022-04-18T04:41:52.144380Z",
     "start_time": "2022-04-18T04:41:08.165964Z"
    }
   },
   "outputs": [
    {
     "name": "stderr",
     "output_type": "stream",
     "text": [
      "100%|███████████████████████████████████████████████████████████████████████████████████████████████████████████████████████████████████████████████████████| 216/216 [00:13<00:00, 15.94it/s]\n",
      "100%|███████████████████████████████████████████████████████████████████████████████████████████████████████████████████████████████████████████████████████| 216/216 [00:13<00:00, 15.97it/s]\n",
      "100%|███████████████████████████████████████████████████████████████████████████████████████████████████████████████████████████████████████████████████████| 216/216 [00:13<00:00, 15.95it/s]\n"
     ]
    }
   ],
   "source": [
    "probing_res = prober.train(\n",
    "    num_epochs=3,\n",
    "    show_progress_bar=True,\n",
    ")"
   ]
  },
  {
   "cell_type": "code",
   "execution_count": 16,
   "id": "bc9406c4",
   "metadata": {
    "ExecuteTime": {
     "end_time": "2022-04-18T04:27:32.013154Z",
     "start_time": "2022-04-18T04:27:31.622711Z"
    },
    "scrolled": false
   },
   "outputs": [
    {
     "name": "stdout",
     "output_type": "stream",
     "text": [
      "   epoch                             module metric_name    metric\n",
      "0     -1  bert.encoder.layer.0.output.dense    accuracy  0.729167\n",
      "1     -1  bert.encoder.layer.0.output.dense        loss  0.675937\n",
      "2     -1  bert.encoder.layer.1.output.dense    accuracy  0.729167\n",
      "3     -1  bert.encoder.layer.1.output.dense        loss  0.838226\n"
     ]
    },
    {
     "data": {
      "image/png": "[encoded data removed]",
      "text/plain": [
       "<Figure size 864x576 with 2 Axes>"
      ]
     },
     "metadata": {},
     "output_type": "display_data"
    }
   ],
   "source": [
    "def create_plot(data, ax, split):\n",
    "    df = data.to_pandas(aggregate_by=[\"epoch\", \"module\", \"metric_name\"])\n",
    "    df = df.loc[df[\"metric_name\"] == \"accuracy\"]\n",
    "    sns.lineplot(x=\"epoch\", y=\"metric\", hue=\"module\", data=df, ax=ax);\n",
    "\n",
    "    \n",
    "sns.set_theme(\n",
    "    context=\"notebook\",\n",
    "    style=\"whitegrid\",\n",
    "    font_scale=1.5,\n",
    "    palette=\"colorblind\",\n",
    ")\n",
    "\n",
    "fig, (ax1, ax2) = plt.subplots(2, figsize=(12, 8))\n",
    "\n",
    "create_plot(probing_res.train, ax=ax1, split=\"train\")\n",
    "create_plot(probing_res.eval, ax=ax2, split=\"eval\")\n",
    "\n",
    "print(probing_res.test.to_pandas([\"epoch\", \"module\", \"metric_name\"]))\n",
    "\n",
    "plt.tight_layout()"
   ]
  }
 ],
 "metadata": {
  "kernelspec": {
   "display_name": "Python 3",
   "language": "python",
   "name": "python3"
  },
  "language_info": {
   "codemirror_mode": {
    "name": "ipython",
    "version": 3
   },
   "file_extension": ".py",
   "mimetype": "text/x-python",
   "name": "python",
   "nbconvert_exporter": "python",
   "pygments_lexer": "ipython3",
   "version": "3.9.10"
  },
  "latex_envs": {
   "LaTeX_envs_menu_present": true,
   "autoclose": false,
   "autocomplete": true,
   "bibliofile": "biblio.bib",
   "cite_by": "apalike",
   "current_citInitial": 1,
   "eqLabelWithNumbers": true,
   "eqNumInitial": 1,
   "hotkeys": {
    "equation": "Ctrl-E",
    "itemize": "Ctrl-I"
   },
   "labels_anchors": false,
   "latex_user_defs": false,
   "report_style_numbering": false,
   "user_envs_cfg": false
  },
  "toc": {
   "base_numbering": 1,
   "nav_menu": {},
   "number_sections": true,
   "sideBar": true,
   "skip_h1_title": false,
   "title_cell": "Table of Contents",
   "title_sidebar": "Contents",
   "toc_cell": false,
   "toc_position": {},
   "toc_section_display": true,
   "toc_window_display": false
  }
 },
 "nbformat": 4,
 "nbformat_minor": 5
}
